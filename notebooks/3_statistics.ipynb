{
 "cells": [
  {
   "cell_type": "markdown",
   "id": "f3a29a26",
   "metadata": {},
   "source": [
    "# VR CO2 Study - Data processing\n",
    "\n",
    "This notebook does the following:\n",
    "\n",
    "1. x\n",
    "2. y\n",
    "3. z\n",
    "\n",
    "Input: input\n",
    "Output: output"
   ]
  },
  {
   "cell_type": "code",
   "execution_count": null,
   "id": "e27fd00c",
   "metadata": {},
   "outputs": [],
   "source": [
    "import pandas as pd\n",
    "import os\n",
    "from scipy import stats\n",
    "import seaborn as sns\n",
    "import matplotlib.pyplot as plt\n",
    "import numpy as np\n",
    "from utils.plots import plot_features_time_series, contact_gsr_line_plot, plot_segment_violin\n",
    "from utils.Tests import Tests\n",
    "import statsmodels.formula.api as smf"
   ]
  },
  {
   "cell_type": "code",
   "execution_count": null,
   "id": "0a8f0f3e",
   "metadata": {},
   "outputs": [],
   "source": [
    "# Create new directory for notebook output\n",
    "notebook_temp_dir = os.path.join(os.getcwd(), \"temp\", \"3_statistics\")\n",
    "\n",
    "if not os.path.exists(notebook_temp_dir):\n",
    "    os.makedirs(notebook_temp_dir)"
   ]
  },
  {
   "cell_type": "code",
   "execution_count": null,
   "id": "876c96e6",
   "metadata": {},
   "outputs": [],
   "source": [
    "# File containing features for entire segments\n",
    "segment_features_file = 'D:\\\\co2-study\\\\temp\\\\segment_features.csv'\n",
    "segment_features = pd.read_csv(segment_features_file, index_col=0)\n",
    "\n",
    "# File containing features for windows of data\n",
    "windowed_features_file = 'D:\\\\co2-study\\\\temp\\\\windowed_features.csv'\n",
    "windowed_features = pd.read_csv(windowed_features_file, index_col=0)"
   ]
  },
  {
   "cell_type": "code",
   "execution_count": null,
   "id": "5b897a45",
   "metadata": {},
   "outputs": [],
   "source": [
    "# Filter the data for 'air' and 'co2' conditions with 'gas_inhalation' segment\n",
    "gas_inhalation_segments = segment_features[(segment_features['Condition'].isin(['AIR', 'CO2'])) & (segment_features['Segment'] == 'gas_inhalation')]\n",
    "gas_inhalation_windows = windowed_features[(windowed_features['Condition'].isin(['AIR', 'CO2'])) & (windowed_features['Segment'] == 'gas_inhalation')]\n",
    "\n",
    "# Calculate mean combined pupil size using left and right pupils\n",
    "gas_inhalation_segments['pupil_size_combined'] = (gas_inhalation_segments['VerboseData.Left.PupilDiameterMm_mean'] + gas_inhalation_segments['VerboseData.Right.PupilDiameterMm_mean']) / 2\n",
    "gas_inhalation_windows['pupil_size_combined'] = (gas_inhalation_windows['VerboseData.Left.PupilDiameterMm_mean'] + gas_inhalation_windows['VerboseData.Right.PupilDiameterMm_mean']) / 2\n",
    "\n",
    "# add window index for each participant/condition\n",
    "window_index = pd.DataFrame({'window_index': gas_inhalation_windows.groupby(['participant_number', 'Condition']).cumcount()})\n",
    "gas_inhalation_windows.insert(3, 'window_index', window_index['window_index'])"
   ]
  },
  {
   "cell_type": "markdown",
   "id": "c3161a16",
   "metadata": {},
   "source": [
    "# GSR\n"
   ]
  },
  {
   "cell_type": "code",
   "execution_count": null,
   "id": "028d3a09",
   "metadata": {},
   "outputs": [],
   "source": [
    "# Filter GSR data for segmented and windowed data\n",
    "gsr_data_segments = gas_inhalation_segments.filter(regex=r'^(participant_number|Condition|Segment|Biopac_GSR_)').reset_index(drop=True)\n",
    "gsr_air_segments = gsr_data_segments[gsr_data_segments['Condition']=='AIR']\n",
    "gsr_co2_segments = gsr_data_segments[gsr_data_segments['Condition']=='CO2']\n",
    "\n",
    "gsr_data_windows = gas_inhalation_windows.filter(regex=r'^(participant_number|Condition|Segment|window_index|Biopac_GSR_)').reset_index(drop=True)\n",
    "gsr_air_windows = gsr_data_windows[gsr_data_windows['Condition']=='AIR']\n",
    "gsr_co2_windows = gsr_data_windows[gsr_data_windows['Condition']=='CO2']"
   ]
  },
  {
   "cell_type": "code",
   "execution_count": null,
   "id": "bd74e537",
   "metadata": {},
   "outputs": [],
   "source": [
    "# Run Shapiro-Wilk normality tests for both segmented and windowed GSR\n",
    "Tests.normality_test_sw(gsr_air_segments['Biopac_GSR_mean'], 'AIR')\n",
    "Tests.normality_test_sw(gsr_co2_segments['Biopac_GSR_mean'], 'CO2')"
   ]
  },
  {
   "cell_type": "code",
   "execution_count": null,
   "id": "ddaf1e62",
   "metadata": {},
   "outputs": [],
   "source": [
    "# \n",
    "Tests.paired_t_test(gsr_air_segments['Biopac_GSR_mean'],gsr_co2_segments['Biopac_GSR_mean'])"
   ]
  },
  {
   "cell_type": "code",
   "execution_count": null,
   "id": "1ff86a9c",
   "metadata": {},
   "outputs": [],
   "source": [
    "plot_segment_violin(gsr_data_segments, 'Biopac_GSR_mean', 'Mean GSR for Air and CO2 Conditions', 'Condition', 'GSR', \n",
    "                    notebook_temp_dir)"
   ]
  },
  {
   "cell_type": "code",
   "execution_count": null,
   "id": "dc867776",
   "metadata": {},
   "outputs": [],
   "source": [
    "plot_features_time_series(gas_inhalation_windows, 'Biopac_GSR_mean', 'GSR Mean Over Time', 'Time (minutes)', 'Mean GSR', os.path.join(notebook_temp_dir, \"GSR_mean_over_time\"))"
   ]
  },
  {
   "cell_type": "code",
   "execution_count": null,
   "id": "aaab63f9",
   "metadata": {},
   "outputs": [],
   "source": [
    "Tests.regression_tests(gsr_air_windows, gsr_co2_windows, gsr_data_windows, 'Biopac_GSR_mean')"
   ]
  },
  {
   "cell_type": "markdown",
   "id": "22105728",
   "metadata": {},
   "source": [
    "# RSP\n"
   ]
  },
  {
   "cell_type": "code",
   "execution_count": null,
   "id": "15302ec8",
   "metadata": {},
   "outputs": [],
   "source": [
    "# RSP\n",
    "rsp_data_segments = gas_inhalation_segments.filter(regex=r'^(participant_number|Condition|Segment|window_index|Biopac_RSP_|RSP_)').reset_index(drop=True)\n",
    "rsp_air_segments = rsp_data_segments[rsp_data_segments['Condition']=='AIR']\n",
    "rsp_co2_segments = rsp_data_segments[rsp_data_segments['Condition']=='CO2']\n",
    "\n",
    "rsp_data_windows = gas_inhalation_windows.filter(regex=r'^(participant_number|Condition|Segment|window_index|Biopac_RSP_|RSP_)').reset_index(drop=True)\n",
    "rsp_air_windows = rsp_data_windows[rsp_data_windows['Condition']=='AIR']\n",
    "rsp_co2_windows = rsp_data_windows[rsp_data_windows['Condition']=='CO2']"
   ]
  },
  {
   "cell_type": "code",
   "execution_count": null,
   "id": "75929553",
   "metadata": {},
   "outputs": [],
   "source": [
    "# Run Shapiro-Wilk normality tests for both segmented and windowed GSR\n",
    "Tests.normality_test_sw(rsp_air_segments['RSP_Rate_Mean'], 'AIR')\n",
    "Tests.normality_test_sw(rsp_co2_segments['RSP_Rate_Mean'], 'CO2')"
   ]
  },
  {
   "cell_type": "code",
   "execution_count": null,
   "id": "1c822ed2",
   "metadata": {},
   "outputs": [],
   "source": [
    "Tests.paired_t_test(rsp_air_segments['RSP_Rate_Mean'],rsp_co2_segments['RSP_Rate_Mean'])"
   ]
  },
  {
   "cell_type": "code",
   "execution_count": null,
   "id": "374f3ab5",
   "metadata": {},
   "outputs": [],
   "source": [
    "plot_segment_violin(rsp_data_segments, 'RSP_Rate_Mean', 'Mean Respiratory Rate for Air and CO2 Conditions', 'Condition', 'Respiratory Rate', \n",
    "                    notebook_temp_dir)"
   ]
  },
  {
   "cell_type": "code",
   "execution_count": null,
   "id": "7f2481f6",
   "metadata": {},
   "outputs": [],
   "source": [
    "plot_features_time_series(gas_inhalation_windows, 'RSP_Rate_Mean', 'RSP Rate Mean Over Time', 'Time (minutes)', 'RSP Rate Mean', os.path.join(notebook_temp_dir, \"RSP_mean_over_time\"))"
   ]
  },
  {
   "cell_type": "code",
   "execution_count": null,
   "id": "d538ce57",
   "metadata": {},
   "outputs": [],
   "source": [
    "Tests.regression_tests(rsp_air_windows, rsp_co2_windows, rsp_data_windows, 'RSP_Rate_Mean')"
   ]
  },
  {
   "cell_type": "markdown",
   "id": "3d0c36ec",
   "metadata": {},
   "source": [
    "# HR\n"
   ]
  },
  {
   "cell_type": "code",
   "execution_count": null,
   "id": "841550ac",
   "metadata": {},
   "outputs": [],
   "source": [
    "# HR\n",
    "#TODO: Using emteqPRO's HR because feature extraction when using entire segments sets HR features to nan per outlier rejection\n",
    "hr_data_segments = gas_inhalation_segments.filter(regex=r'^(participant_number|Condition|Segment|PPG_|HRV_|HeartRate/Average_mean)').reset_index(drop=True)\n",
    "hr_data_segments.rename(columns = {'HeartRate/Average_mean':'HeartRate_Average_mean'}, inplace = True)\n",
    "hr_air_segments = hr_data_segments[hr_data_segments['Condition']=='AIR']\n",
    "hr_co2_segments = hr_data_segments[hr_data_segments['Condition']=='CO2']\n",
    "\n",
    "hr_data_windows = gas_inhalation_windows.filter(regex=r'^(participant_number|Condition|Segment|window_index|PPG_|HRV_|HeartRate/Average_mean)').reset_index(drop=True)\n",
    "hr_data_windows.rename(columns = {'HeartRate/Average_mean':'HeartRate_Average_mean'}, inplace = True)\n",
    "hr_air_windows = hr_data_windows[hr_data_windows['Condition']=='AIR']\n",
    "hr_co2_windows = hr_data_windows[hr_data_windows['Condition']=='CO2']"
   ]
  },
  {
   "cell_type": "code",
   "execution_count": null,
   "id": "3b3fa35a",
   "metadata": {},
   "outputs": [],
   "source": [
    "# Run Shapiro-Wilk normality tests for both segmented and windowed GSR\n",
    "Tests.normality_test_sw(hr_air_segments['HeartRate_Average_mean'], 'AIR')\n",
    "Tests.normality_test_sw(hr_co2_segments['HeartRate_Average_mean'], 'CO2')"
   ]
  },
  {
   "cell_type": "code",
   "execution_count": null,
   "id": "71010947",
   "metadata": {},
   "outputs": [],
   "source": [
    "Tests.paired_t_test(hr_air_segments['HeartRate_Average_mean'],hr_co2_segments['HeartRate_Average_mean'])"
   ]
  },
  {
   "cell_type": "code",
   "execution_count": null,
   "id": "aaf072c1",
   "metadata": {},
   "outputs": [],
   "source": [
    "plot_segment_violin(hr_data_segments, 'HeartRate_Average_mean', 'Mean Heart Rate for Air and CO2 Conditions', 'Condition', 'Heart Rate', \n",
    "                    notebook_temp_dir)"
   ]
  },
  {
   "cell_type": "code",
   "execution_count": null,
   "id": "a25e057d",
   "metadata": {},
   "outputs": [],
   "source": [
    "plot_features_time_series(gas_inhalation_windows, 'HeartRate/Average_mean', 'HR Rate Mean Over Time', 'Time (minutes)', 'HR Rate Mean (Emteq)', os.path.join(notebook_temp_dir, \"HR_mean_over_time_EMTEQ\"))"
   ]
  },
  {
   "cell_type": "code",
   "execution_count": null,
   "id": "c1f2d813",
   "metadata": {},
   "outputs": [],
   "source": [
    "plot_features_time_series(gas_inhalation_windows, 'PPG_Rate_Mean', 'HR Rate Mean Over Time', 'Time (minutes)', 'HR Rate Mean (PPG)', os.path.join(notebook_temp_dir, \"GSR_mean_over_time_PPG\"))"
   ]
  },
  {
   "cell_type": "code",
   "execution_count": null,
   "id": "d8aac7be",
   "metadata": {},
   "outputs": [],
   "source": [
    "Tests.regression_tests(hr_air_windows, hr_co2_windows, hr_data_windows, 'HeartRate_Average_mean')"
   ]
  },
  {
   "cell_type": "code",
   "execution_count": null,
   "id": "6f0db056",
   "metadata": {},
   "outputs": [],
   "source": []
  },
  {
   "cell_type": "markdown",
   "id": "f90a2a2d",
   "metadata": {},
   "source": [
    "# Pupil Size"
   ]
  },
  {
   "cell_type": "code",
   "execution_count": null,
   "id": "eb65b34c",
   "metadata": {},
   "outputs": [],
   "source": [
    "# Pupil size\n",
    "pupil_data_segments = gas_inhalation_segments.filter(regex=r'^(participant_number|Condition|Segment|VerboseData.|pupil_)').reset_index(drop=True)\n",
    "#pupil_data_segments['pupil_size_combined'] = (pupil_data_segments['VerboseData.Left.PupilDiameterMm_mean'] + pupil_data_segments['VerboseData.Right.PupilDiameterMm_mean']) / 2\n",
    "\n",
    "pupil_air_segments = pupil_data_segments[pupil_data_segments['Condition']=='AIR']\n",
    "pupil_co2_segments = pupil_data_segments[pupil_data_segments['Condition']=='CO2']\n",
    "\n",
    "pupil_data_windows = windowed_features.filter(regex=r'^(participant_number|Condition|Segment|VerboseData.|pupil_)').reset_index(drop=True)\n",
    "pupil_air_windows = pupil_data_windows[pupil_data_windows['Condition']=='AIR']\n",
    "pupil_co2_windows = pupil_data_windows[pupil_data_windows['Condition']=='CO2']"
   ]
  },
  {
   "cell_type": "code",
   "execution_count": null,
   "id": "7c2a5a4e",
   "metadata": {},
   "outputs": [],
   "source": [
    "# Shapiro-Wilk test for normality\n",
    "shapiro_test = stats.shapiro(pupil_air_segments['pupil_size_combined'])\n",
    "print(\"Combined Pupil Size Mean - AIR:\")\n",
    "print(\"Shapiro-Wilk Test - Statistic:\", shapiro_test.statistic)\n",
    "print(\"Shapiro-Wilk Test - p-value:\", shapiro_test.pvalue)\n",
    "\n",
    "print(\"Combined Pupil Size Mean - CO2:\")\n",
    "shapiro_test = stats.shapiro(pupil_co2_segments['pupil_size_combined'])\n",
    "print(\"Shapiro-Wilk Test - Statistic:\", shapiro_test.statistic)\n",
    "print(\"Shapiro-Wilk Test - p-value:\", shapiro_test.pvalue)\n",
    "\n",
    "# HR data is not normally disributed but due to sample size 50+, it is acceptable to run paired t test.\n",
    "\n",
    "# Perform the paired t-test\n",
    "t_statistic, p_value = stats.ttest_rel(pupil_air_segments['pupil_size_combined'], pupil_co2_segments['pupil_size_combined'])\n",
    "print(f\"T-statistic: {t_statistic:.3f}\")\n",
    "print(f\"P-value: {p_value:.3f}\")"
   ]
  },
  {
   "cell_type": "code",
   "execution_count": null,
   "id": "17bb8044",
   "metadata": {},
   "outputs": [],
   "source": [
    "# Create the violin plot\n",
    "sns.violinplot(x='Condition', y='pupil_size_combined', data=pupil_data_segments)\n",
    "\n",
    "# Customize plot titles and labels\n",
    "sns.set(style='whitegrid')\n",
    "plt.title('Mean Pupil Size for Air and CO2 Conditions')\n",
    "plt.xlabel('Condition')\n",
    "plt.ylabel('Pupil Size Mean')\n",
    "\n",
    "# Display the plot\n",
    "plt.show()"
   ]
  },
  {
   "cell_type": "code",
   "execution_count": null,
   "id": "b1f2ed58",
   "metadata": {},
   "outputs": [],
   "source": [
    "plot_features_time_series(gas_inhalation_windows, 'pupil_size_combined', 'Pupil Size Mean Over Time', 'Time windows', 'Pupil Size', os.path.join(notebook_temp_dir, \"Pupil_size\"))"
   ]
  },
  {
   "cell_type": "markdown",
   "id": "b909fa19",
   "metadata": {},
   "source": [
    "# EMG Contact"
   ]
  },
  {
   "cell_type": "code",
   "execution_count": null,
   "id": "6969cc45",
   "metadata": {},
   "outputs": [],
   "source": [
    "# Pupil size\n",
    "contact_data_segments = gas_inhalation_segments.filter(regex=r'^(participant_number|Condition|Segment|Emg/Contact)').reset_index(drop=True)\n",
    "\n",
    "contact_air_segments = contact_data_segments[contact_data_segments['Condition']=='AIR']\n",
    "contact_co2_segments = contact_data_segments[contact_data_segments['Condition']=='CO2']\n",
    "\n",
    "contact_data_windows = windowed_features.filter(regex=r'^(participant_number|Condition|Segment|Emg/Contact)').reset_index(drop=True)\n",
    "contact_air_windows = contact_data_windows[contact_data_windows['Condition']=='AIR']\n",
    "contact_co2_windows = contact_data_windows[contact_data_windows['Condition']=='CO2']"
   ]
  },
  {
   "cell_type": "code",
   "execution_count": null,
   "id": "8ffa2bce",
   "metadata": {},
   "outputs": [],
   "source": [
    "# Shapiro-Wilk test for normality\n"
   ]
  },
  {
   "cell_type": "code",
   "execution_count": null,
   "id": "da67483b",
   "metadata": {},
   "outputs": [],
   "source": [
    "# Create the violin plot\n",
    "sns.violinplot(x='Condition', y='Emg/Contact[RightOrbicularis]_mean', data=contact_data_segments)\n",
    "\n",
    "# Customize plot titles and labels\n",
    "sns.set(style='whitegrid')\n",
    "plt.title('Mean Pupil Size for Air and CO2 Conditions')\n",
    "plt.xlabel('Condition')\n",
    "plt.ylabel('Pupil Size Mean')\n",
    "\n",
    "# Display the plot\n",
    "plt.show()"
   ]
  },
  {
   "cell_type": "code",
   "execution_count": null,
   "id": "9901f7fd",
   "metadata": {},
   "outputs": [],
   "source": [
    "import seaborn as sns\n",
    "import matplotlib.pyplot as plt\n",
    "\n",
    "# Filter the dataframe for 'AIR' and 'CO2' conditions\n",
    "air_co2_data = contact_data_segments.copy()\n",
    "\n",
    "# Melt the dataframe to convert separate columns for each muscle into a single column\n",
    "melted_data = air_co2_data.melt(id_vars=['Condition', 'Segment'], value_vars=['Emg/Contact[RightOrbicularis]_mean', 'Emg/Contact[RightZygomaticus]_mean', 'Emg/Contact[RightFrontalis]_mean', 'Emg/Contact[CenterCorrugator]_mean', 'Emg/Contact[LeftFrontalis]_mean', 'Emg/Contact[LeftZygomaticus]_mean', 'Emg/Contact[LeftOrbicularis]_mean'], var_name='Muscle', value_name='Emg_Contact')\n",
    "\n",
    "# Define the order of the muscles for plotting\n",
    "muscle_order = ['RightOrbicularis', 'RightZygomaticus', 'RightFrontalis', 'CenterCorrugator', 'LeftFrontalis', 'LeftZygomaticus', 'LeftOrbicularis']\n",
    "\n",
    "# Create the violin plot\n",
    "plt.figure(figsize=(12, 8))\n",
    "sns.violinplot(x='Condition', y='Emg_Contact', hue='Muscle', data=melted_data, scale='width', linewidth=0.5)\n",
    "\n",
    "\n",
    "# Customize the plot\n",
    "plt.title('EMG/Contact for Each Muscle in AIR and CO2 Conditions')\n",
    "plt.xlabel('Condition')\n",
    "plt.ylabel('EMG/Contact')\n",
    "plt.legend(title='Muscle')\n",
    "\n",
    "# Show the plot\n",
    "plt.show()\n"
   ]
  },
  {
   "cell_type": "code",
   "execution_count": null,
   "id": "5ce62be9",
   "metadata": {},
   "outputs": [],
   "source": [
    "muscles = ['LeftOrbicularis','RightOrbicularis', 'LeftFrontalis', 'RightFrontalis', 'LeftZygomaticus', 'RightZygomaticus', 'CenterCorrugator']\n",
    "\n",
    "for muscle in muscles:\n",
    "    muscle_name = f'Emg/Contact[{muscle}]_mean'\n",
    "    plot_title = f'{muscle} Mean Over Time'\n",
    "    contact_gsr_line_plot(gas_inhalation_windows, muscle_name, plot_title, notebook_temp_dir)\n"
   ]
  },
  {
   "cell_type": "markdown",
   "id": "9f21920a",
   "metadata": {},
   "source": [
    "# Correlation Matrix"
   ]
  },
  {
   "cell_type": "code",
   "execution_count": null,
   "id": "ac522467",
   "metadata": {},
   "outputs": [],
   "source": [
    "# Generate correlation matrix\n",
    "# create a list of column names that contain \"mean\" or \"Mean\"\n",
    "mean_columns = gas_inhalation_windows.columns[gas_inhalation_windows.columns.str.contains('_mean|_Mean')].tolist()\n",
    "\n",
    "# select only the columns that contain \"mean\" or \"Mean\"\n",
    "df = gas_inhalation_windows[mean_columns]\n",
    "#df_mean = df_mean.dropna()\n",
    "\n"
   ]
  },
  {
   "cell_type": "code",
   "execution_count": null,
   "id": "2a961113",
   "metadata": {},
   "outputs": [],
   "source": [
    "import pandas as pd\n",
    "from scipy.stats import pearsonr\n",
    "from statsmodels.stats.multitest import multipletests\n",
    "\n",
    "# compute the correlation matrix\n",
    "corr_matrix = df.corr(method=lambda x, y: pearsonr(x, y)[0])\n",
    "\n",
    "# compute the p-values for each correlation coefficient\n",
    "p_values = df.corr(method=lambda x, y: pearsonr(x, y)[1])\n",
    "\n",
    "# adjust the p-values using FDR control\n",
    "reject, p_values_fdr = multipletests(p_values.values.flatten(), alpha=0.05, method='fdr_by')[:2]\n",
    "p_values_fdr = pd.DataFrame(p_values_fdr.reshape(p_values.shape), index=p_values.index, columns=p_values.columns)\n",
    "\n",
    "# use the adjusted p-values to filter the correlation matrix\n",
    "corr_matrix_fdr = corr_matrix.where(p_values_fdr < 0.05)\n",
    "p_values_fdr = p_values_fdr.where(p_values_fdr < 0.05)\n",
    "corr_matrix_fdr.to_csv(os.path.join(notebook_temp_dir, \"correlation_matrix_test_statistic.csv\"))\n",
    "p_values_fdr.to_csv(os.path.join(notebook_temp_dir, \"correlation_matrix_p_values.csv\"))\n"
   ]
  },
  {
   "cell_type": "code",
   "execution_count": null,
   "id": "6e12fcca",
   "metadata": {},
   "outputs": [],
   "source": [
    "import seaborn as sns\n",
    "# select the subset of columns you want to plot\n",
    "subset_cols = ['Biopac_GSR_mean', 'RSP_Rate_Mean']\n",
    "\n",
    "# select the subset of the correlation matrix you want to plot\n",
    "corr_matrix_fdr_subset = corr_matrix_fdr[subset_cols][subset_cols]\n",
    "\n",
    "# create a boolean mask for rows where the index contains \"Contact\" or \"Pupil\"\n",
    "#mask = corr_matrix_fdr_subset.index.str.contains(\"Contact|Pupil\")\n",
    "mask = corr_matrix_fdr_subset.index.str.contains(\"Contact\")\n",
    "\n",
    "# use boolean indexing to select the rows that meet the condition\n",
    "corr_matrix_fdr_subset = corr_matrix_fdr_subset.loc[mask]\n",
    "\n",
    "#corr_matrix_fdr_subset = corr_matrix_fdr_subset.fillna('')\n",
    "# Create heatmap using seaborn\n",
    "sns.heatmap(corr_matrix_fdr_subset, annot=True, cmap='coolwarm', square=False)\n"
   ]
  },
  {
   "cell_type": "code",
   "execution_count": null,
   "id": "23c68577",
   "metadata": {},
   "outputs": [],
   "source": []
  }
 ],
 "metadata": {
  "kernelspec": {
   "display_name": "Python 3 (Spyder)",
   "language": "python3",
   "name": "python3"
  },
  "language_info": {
   "codemirror_mode": {
    "name": "ipython",
    "version": 3
   },
   "file_extension": ".py",
   "mimetype": "text/x-python",
   "name": "python",
   "nbconvert_exporter": "python",
   "pygments_lexer": "ipython3",
   "version": "3.9.13"
  }
 },
 "nbformat": 4,
 "nbformat_minor": 5
}
