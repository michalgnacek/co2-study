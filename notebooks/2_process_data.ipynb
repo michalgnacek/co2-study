{
 "cells": [
  {
   "cell_type": "markdown",
   "id": "ad4fe24f",
   "metadata": {},
   "source": [
    "# VR CO2 Study - Data processing\n",
    "\n",
    "This notebook does the following:\n",
    "\n",
    "1. x\n",
    "2. y\n",
    "3. z\n",
    "\n",
    "Input: input\n",
    "Output: output"
   ]
  },
  {
   "cell_type": "code",
   "execution_count": 1,
   "id": "42f6c1e1",
   "metadata": {},
   "outputs": [],
   "source": [
    "# TODO\n",
    "#1. Participant 1 CO2 mask data time is weird. First row of data in mask co2 df is '2022-04-27 17:50:59 UTC' while the file suggests it started 2022-04-27T19-55-22\n",
    "#2 Participant 10 seems to have the same issue as P1 but generated fixed time csv. Still needs solving\n",
    "#3 feature extraction for entire segments. If there are any peaks inside window (segment in this case) that include outlier, entire segment is NaN'ed"
   ]
  },
  {
   "cell_type": "code",
   "execution_count": 2,
   "id": "a1589fbe",
   "metadata": {},
   "outputs": [],
   "source": [
    "# Imports\n",
    "import os\n",
    "if('notebooks' in os.getcwd()):\n",
    "    os.chdir('..')\n",
    "import json\n",
    "import pandas as pd\n",
    "from utils.constants import AirFiles, CO2Files, DATA_COLUMNS, FREQUENCIES\n",
    "from utils.load_data import load_data_with_event_matching\n",
    "from utils.timestamps import read_unix, read_j2000, j2000_to_unix, generate_biopac_unix_timestamps\n",
    "from classes.Participant import Participant\n",
    "from classes.DataHandler import DataHandler\n",
    "import numpy as np\n",
    "import matplotlib.pyplot as plt\n",
    "from utils.plots import Plots\n",
    "from utils.normalisation import eye_tracking as normalise_pupil_size\n",
    "import math\n"
   ]
  },
  {
   "cell_type": "code",
   "execution_count": 3,
   "id": "0c9e1931",
   "metadata": {},
   "outputs": [
    {
     "data": {
      "text/plain": [
       "Int64Index([ 0,  1,  2,  3,  4,  5,  6,  7,  8,  9, 10, 11, 12, 13, 14, 15, 16,\n",
       "            17, 18, 19, 20, 21, 22, 23, 24, 25, 26, 27, 28, 29, 30, 31, 32, 33,\n",
       "            34, 35, 36, 37, 38, 39, 40, 41, 42, 43, 44, 45, 46, 47, 48, 49, 50,\n",
       "            51, 52, 53, 54, 55, 56, 57, 58, 59, 60, 61, 62],\n",
       "           dtype='int64')"
      ]
     },
     "execution_count": 3,
     "metadata": {},
     "output_type": "execute_result"
    }
   ],
   "source": [
    "# Open file index JSON for reading\n",
    "file_index = pd.read_json(os.path.join(os.getcwd(), 'temp/file_index.json'))\n",
    "file_index = file_index.sort_index()\n",
    "participant_ids = file_index.index\n",
    "participant_ids"
   ]
  },
  {
   "cell_type": "code",
   "execution_count": 4,
   "id": "07718507",
   "metadata": {},
   "outputs": [
    {
     "data": {
      "text/plain": [
       "46"
      ]
     },
     "execution_count": 4,
     "metadata": {},
     "output_type": "execute_result"
    }
   ],
   "source": [
    "#participant_ids = [23]\n",
    "# good participants\n",
    "#participant_ids = [1,2,7,9,10,11,12,13,14,15,16,17,18,19,20,22,23,24,25,26,27,28,29,32,33,34,35,36,37,38,43,44,45,46,47,48,49,51,52,53,54,55,57,59,60,61,62,63]\n",
    "#participants i can actually run\n",
    "participant_ids = [2,7,9,11,12,13,14,15,16,17,18,19,20,22,23,24,25,26,27,28,29,32,33,34,35,36,37,38,43,44,45,46,47,48,49,51,52,53,54,55,57,59,60,61,62,63]\n",
    "#participant_ids = [33,34,35,36,37,38,43,44,45,46,47,48,49,51,52,53,54,55,57,59,60,61,62,63]\n",
    "# panic, incomplete participants\n",
    "#participants_ids_panic = [5,6,21,30,39,40,42,58]\n",
    "participant_ids = [id - 1 for id in participant_ids]\n",
    "synced_data_directory = os.path.join(os.getcwd(), 'temp', 'synced_participant_data')\n",
    "len(participant_ids)"
   ]
  },
  {
   "cell_type": "code",
   "execution_count": 6,
   "id": "32c97258",
   "metadata": {},
   "outputs": [
    {
     "name": "stdout",
     "output_type": "stream",
     "text": [
      "Synced file for participant: 2_john found. Loading existing file.\n"
     ]
    },
    {
     "name": "stderr",
     "output_type": "stream",
     "text": [
      "C:\\Users\\masqu\\AppData\\Local\\Temp\\ipykernel_1736\\2585823448.py:10: DtypeWarning: Columns (46) have mixed types. Specify dtype option on import or set low_memory=False.\n",
      "  participant.set_synced_data(pd.read_csv(synced_participant_file))\n"
     ]
    },
    {
     "name": "stdout",
     "output_type": "stream",
     "text": [
      "Finished data processing for participant: 2_john\n",
      "Synced file for participant: 7_aliaksei found. Loading existing file.\n"
     ]
    },
    {
     "name": "stderr",
     "output_type": "stream",
     "text": [
      "C:\\Users\\masqu\\AppData\\Local\\Temp\\ipykernel_1736\\2585823448.py:10: DtypeWarning: Columns (46) have mixed types. Specify dtype option on import or set low_memory=False.\n",
      "  participant.set_synced_data(pd.read_csv(synced_participant_file))\n"
     ]
    },
    {
     "name": "stdout",
     "output_type": "stream",
     "text": [
      "Finished data processing for participant: 7_aliaksei\n",
      "Synced file for participant: 9_dan found. Loading existing file.\n"
     ]
    },
    {
     "name": "stderr",
     "output_type": "stream",
     "text": [
      "C:\\Users\\masqu\\AppData\\Local\\Temp\\ipykernel_1736\\2585823448.py:10: DtypeWarning: Columns (46) have mixed types. Specify dtype option on import or set low_memory=False.\n",
      "  participant.set_synced_data(pd.read_csv(synced_participant_file))\n"
     ]
    },
    {
     "name": "stdout",
     "output_type": "stream",
     "text": [
      "Finished data processing for participant: 9_dan\n",
      "Synced file for participant: 11_john_l found. Loading existing file.\n"
     ]
    },
    {
     "name": "stderr",
     "output_type": "stream",
     "text": [
      "C:\\Users\\masqu\\AppData\\Local\\Temp\\ipykernel_1736\\2585823448.py:10: DtypeWarning: Columns (46) have mixed types. Specify dtype option on import or set low_memory=False.\n",
      "  participant.set_synced_data(pd.read_csv(synced_participant_file))\n"
     ]
    },
    {
     "name": "stdout",
     "output_type": "stream",
     "text": [
      "Finished data processing for participant: 11_john_l\n",
      "Synced file for participant: 12_alex_b found. Loading existing file.\n"
     ]
    },
    {
     "name": "stderr",
     "output_type": "stream",
     "text": [
      "C:\\Users\\masqu\\AppData\\Local\\Temp\\ipykernel_1736\\2585823448.py:10: DtypeWarning: Columns (46) have mixed types. Specify dtype option on import or set low_memory=False.\n",
      "  participant.set_synced_data(pd.read_csv(synced_participant_file))\n"
     ]
    },
    {
     "name": "stdout",
     "output_type": "stream",
     "text": [
      "Finished data processing for participant: 12_alex_b\n",
      "Synced file for participant: 13_hubert found. Loading existing file.\n"
     ]
    },
    {
     "name": "stderr",
     "output_type": "stream",
     "text": [
      "C:\\Users\\masqu\\AppData\\Local\\Temp\\ipykernel_1736\\2585823448.py:10: DtypeWarning: Columns (46) have mixed types. Specify dtype option on import or set low_memory=False.\n",
      "  participant.set_synced_data(pd.read_csv(synced_participant_file))\n"
     ]
    },
    {
     "name": "stdout",
     "output_type": "stream",
     "text": [
      "Finished data processing for participant: 13_hubert\n",
      "Synced file for participant: 14_corin found. Loading existing file.\n"
     ]
    },
    {
     "name": "stderr",
     "output_type": "stream",
     "text": [
      "C:\\Users\\masqu\\AppData\\Local\\Temp\\ipykernel_1736\\2585823448.py:10: DtypeWarning: Columns (46) have mixed types. Specify dtype option on import or set low_memory=False.\n",
      "  participant.set_synced_data(pd.read_csv(synced_participant_file))\n"
     ]
    },
    {
     "name": "stdout",
     "output_type": "stream",
     "text": [
      "Finished data processing for participant: 14_corin\n",
      "Synced file for participant: 15_amy found. Loading existing file.\n"
     ]
    },
    {
     "name": "stderr",
     "output_type": "stream",
     "text": [
      "C:\\Users\\masqu\\AppData\\Local\\Temp\\ipykernel_1736\\2585823448.py:10: DtypeWarning: Columns (46) have mixed types. Specify dtype option on import or set low_memory=False.\n",
      "  participant.set_synced_data(pd.read_csv(synced_participant_file))\n"
     ]
    },
    {
     "name": "stdout",
     "output_type": "stream",
     "text": [
      "Finished data processing for participant: 15_amy\n",
      "Synced file for participant: 16_james_d found. Loading existing file.\n",
      "Finished data processing for participant: 16_james_d\n",
      "Synced file for participant: 17_paul_w found. Loading existing file.\n"
     ]
    },
    {
     "name": "stderr",
     "output_type": "stream",
     "text": [
      "C:\\Users\\masqu\\AppData\\Local\\Temp\\ipykernel_1736\\2585823448.py:10: DtypeWarning: Columns (46) have mixed types. Specify dtype option on import or set low_memory=False.\n",
      "  participant.set_synced_data(pd.read_csv(synced_participant_file))\n"
     ]
    },
    {
     "name": "stdout",
     "output_type": "stream",
     "text": [
      "Finished data processing for participant: 17_paul_w\n",
      "Synced file for participant: 18_karol_k found. Loading existing file.\n"
     ]
    },
    {
     "name": "stderr",
     "output_type": "stream",
     "text": [
      "C:\\Users\\masqu\\AppData\\Local\\Temp\\ipykernel_1736\\2585823448.py:10: DtypeWarning: Columns (46) have mixed types. Specify dtype option on import or set low_memory=False.\n",
      "  participant.set_synced_data(pd.read_csv(synced_participant_file))\n"
     ]
    },
    {
     "name": "stdout",
     "output_type": "stream",
     "text": [
      "Finished data processing for participant: 18_karol_k\n",
      "Synced file for participant: 19_shayaan found. Loading existing file.\n"
     ]
    },
    {
     "name": "stderr",
     "output_type": "stream",
     "text": [
      "C:\\Users\\masqu\\AppData\\Local\\Temp\\ipykernel_1736\\2585823448.py:10: DtypeWarning: Columns (46) have mixed types. Specify dtype option on import or set low_memory=False.\n",
      "  participant.set_synced_data(pd.read_csv(synced_participant_file))\n"
     ]
    },
    {
     "name": "stdout",
     "output_type": "stream",
     "text": [
      "Finished data processing for participant: 19_shayaan\n",
      "Synced file for participant: 20_alex_w found. Loading existing file.\n"
     ]
    },
    {
     "name": "stderr",
     "output_type": "stream",
     "text": [
      "C:\\Users\\masqu\\AppData\\Local\\Temp\\ipykernel_1736\\2585823448.py:10: DtypeWarning: Columns (46) have mixed types. Specify dtype option on import or set low_memory=False.\n",
      "  participant.set_synced_data(pd.read_csv(synced_participant_file))\n"
     ]
    },
    {
     "name": "stdout",
     "output_type": "stream",
     "text": [
      "Finished data processing for participant: 20_alex_w\n",
      "Synced file for participant: 22_michael_s found. Loading existing file.\n"
     ]
    },
    {
     "name": "stderr",
     "output_type": "stream",
     "text": [
      "C:\\Users\\masqu\\AppData\\Local\\Temp\\ipykernel_1736\\2585823448.py:10: DtypeWarning: Columns (46) have mixed types. Specify dtype option on import or set low_memory=False.\n",
      "  participant.set_synced_data(pd.read_csv(synced_participant_file))\n"
     ]
    },
    {
     "name": "stdout",
     "output_type": "stream",
     "text": [
      "Finished data processing for participant: 22_michael_s\n",
      "Synced file for participant: 23_peter_h found. Loading existing file.\n"
     ]
    },
    {
     "name": "stderr",
     "output_type": "stream",
     "text": [
      "C:\\Users\\masqu\\AppData\\Local\\Temp\\ipykernel_1736\\2585823448.py:10: DtypeWarning: Columns (46) have mixed types. Specify dtype option on import or set low_memory=False.\n",
      "  participant.set_synced_data(pd.read_csv(synced_participant_file))\n"
     ]
    },
    {
     "name": "stdout",
     "output_type": "stream",
     "text": [
      "Finished data processing for participant: 23_peter_h\n",
      "Synced file for participant: 24_alasdair_m found. Loading existing file.\n"
     ]
    },
    {
     "name": "stderr",
     "output_type": "stream",
     "text": [
      "C:\\Users\\masqu\\AppData\\Local\\Temp\\ipykernel_1736\\2585823448.py:10: DtypeWarning: Columns (46) have mixed types. Specify dtype option on import or set low_memory=False.\n",
      "  participant.set_synced_data(pd.read_csv(synced_participant_file))\n"
     ]
    },
    {
     "name": "stdout",
     "output_type": "stream",
     "text": [
      "Finished data processing for participant: 24_alasdair_m\n",
      "Synced file for participant: 25_james_he found. Loading existing file.\n"
     ]
    },
    {
     "name": "stderr",
     "output_type": "stream",
     "text": [
      "C:\\Users\\masqu\\AppData\\Local\\Temp\\ipykernel_1736\\2585823448.py:10: DtypeWarning: Columns (46) have mixed types. Specify dtype option on import or set low_memory=False.\n",
      "  participant.set_synced_data(pd.read_csv(synced_participant_file))\n"
     ]
    },
    {
     "name": "stdout",
     "output_type": "stream",
     "text": [
      "Finished data processing for participant: 25_james_he\n",
      "Synced file for participant: 26_joshua_ra found. Loading existing file.\n"
     ]
    },
    {
     "name": "stderr",
     "output_type": "stream",
     "text": [
      "C:\\Users\\masqu\\AppData\\Local\\Temp\\ipykernel_1736\\2585823448.py:10: DtypeWarning: Columns (46) have mixed types. Specify dtype option on import or set low_memory=False.\n",
      "  participant.set_synced_data(pd.read_csv(synced_participant_file))\n"
     ]
    },
    {
     "name": "stdout",
     "output_type": "stream",
     "text": [
      "Finished data processing for participant: 26_joshua_ra\n",
      "Synced file for participant: 27_roy_kibe found. Loading existing file.\n"
     ]
    },
    {
     "name": "stderr",
     "output_type": "stream",
     "text": [
      "C:\\Users\\masqu\\AppData\\Local\\Temp\\ipykernel_1736\\2585823448.py:10: DtypeWarning: Columns (46) have mixed types. Specify dtype option on import or set low_memory=False.\n",
      "  participant.set_synced_data(pd.read_csv(synced_participant_file))\n"
     ]
    },
    {
     "name": "stdout",
     "output_type": "stream",
     "text": [
      "Finished data processing for participant: 27_roy_kibe\n",
      "Synced file for participant: 28_atul_singh found. Loading existing file.\n"
     ]
    },
    {
     "name": "stderr",
     "output_type": "stream",
     "text": [
      "C:\\Users\\masqu\\AppData\\Local\\Temp\\ipykernel_1736\\2585823448.py:10: DtypeWarning: Columns (46) have mixed types. Specify dtype option on import or set low_memory=False.\n",
      "  participant.set_synced_data(pd.read_csv(synced_participant_file))\n"
     ]
    },
    {
     "name": "stdout",
     "output_type": "stream",
     "text": [
      "Finished data processing for participant: 28_atul_singh\n",
      "Synced file for participant: 29_matthew_wright found. Loading existing file.\n"
     ]
    },
    {
     "name": "stderr",
     "output_type": "stream",
     "text": [
      "C:\\Users\\masqu\\AppData\\Local\\Temp\\ipykernel_1736\\2585823448.py:10: DtypeWarning: Columns (46) have mixed types. Specify dtype option on import or set low_memory=False.\n",
      "  participant.set_synced_data(pd.read_csv(synced_participant_file))\n"
     ]
    },
    {
     "name": "stdout",
     "output_type": "stream",
     "text": [
      "Finished data processing for participant: 29_matthew_wright\n",
      "Synced file for participant: 32_emin_akbay found. Loading existing file.\n"
     ]
    },
    {
     "name": "stderr",
     "output_type": "stream",
     "text": [
      "C:\\Users\\masqu\\AppData\\Local\\Temp\\ipykernel_1736\\2585823448.py:10: DtypeWarning: Columns (46) have mixed types. Specify dtype option on import or set low_memory=False.\n",
      "  participant.set_synced_data(pd.read_csv(synced_participant_file))\n"
     ]
    },
    {
     "name": "stdout",
     "output_type": "stream",
     "text": [
      "Finished data processing for participant: 32_emin_akbay\n",
      "Synced file for participant: 33_muhhamad_aiman found. Loading existing file.\n"
     ]
    },
    {
     "name": "stderr",
     "output_type": "stream",
     "text": [
      "C:\\Users\\masqu\\AppData\\Local\\Temp\\ipykernel_1736\\2585823448.py:10: DtypeWarning: Columns (46) have mixed types. Specify dtype option on import or set low_memory=False.\n",
      "  participant.set_synced_data(pd.read_csv(synced_participant_file))\n"
     ]
    },
    {
     "name": "stdout",
     "output_type": "stream",
     "text": [
      "Finished data processing for participant: 33_muhhamad_aiman\n",
      "Synced file for participant: 34_benjamin_pomeroy found. Loading existing file.\n"
     ]
    },
    {
     "name": "stderr",
     "output_type": "stream",
     "text": [
      "C:\\Users\\masqu\\AppData\\Local\\Temp\\ipykernel_1736\\2585823448.py:10: DtypeWarning: Columns (46) have mixed types. Specify dtype option on import or set low_memory=False.\n",
      "  participant.set_synced_data(pd.read_csv(synced_participant_file))\n"
     ]
    },
    {
     "name": "stdout",
     "output_type": "stream",
     "text": [
      "Finished data processing for participant: 34_benjamin_pomeroy\n",
      "Synced file for participant: 35_prabooganesh_suria found. Loading existing file.\n"
     ]
    },
    {
     "name": "stderr",
     "output_type": "stream",
     "text": [
      "C:\\Users\\masqu\\AppData\\Local\\Temp\\ipykernel_1736\\2585823448.py:10: DtypeWarning: Columns (46) have mixed types. Specify dtype option on import or set low_memory=False.\n",
      "  participant.set_synced_data(pd.read_csv(synced_participant_file))\n"
     ]
    },
    {
     "name": "stdout",
     "output_type": "stream",
     "text": [
      "Finished data processing for participant: 35_prabooganesh_suria\n",
      "Synced file for participant: 36_rostislavs_popovs found. Loading existing file.\n"
     ]
    },
    {
     "name": "stderr",
     "output_type": "stream",
     "text": [
      "C:\\Users\\masqu\\AppData\\Local\\Temp\\ipykernel_1736\\2585823448.py:10: DtypeWarning: Columns (46) have mixed types. Specify dtype option on import or set low_memory=False.\n",
      "  participant.set_synced_data(pd.read_csv(synced_participant_file))\n"
     ]
    },
    {
     "name": "stdout",
     "output_type": "stream",
     "text": [
      "!!!CO2 segment missing\n",
      "Finished data processing for participant: 36_rostislavs_popovs\n",
      "Generating new synced participant file for participant: 37_alejandro\n",
      "Loading Air condition Data\n",
      "2022-09-13 15:56:41 UTC\n",
      "Loading mask data for participant: 37_alejandro\n",
      "Finished mask loading data for participant: 37_alejandro\n",
      "Loading eye data for participant: 37_alejandro\n",
      "Imputing eye tracking data\n",
      "Finished loading eye data for participant: 37_alejandro\n",
      "Loading biopac data for participant: 37_alejandro\n",
      "Synchronising mask and eye tracking files.\n",
      "Finished synchronising mask and eye tracking files\n",
      "Synchronising mask and biopac files.\n",
      "Finished synchronising mask and biopac files\n",
      "Loading CO2 condition Data\n",
      "Loading mask data for participant: 37_alejandro\n",
      "Finished mask loading data for participant: 37_alejandro\n",
      "Loading eye data for participant: 37_alejandro\n",
      "Imputing eye tracking data\n",
      "Finished loading eye data for participant: 37_alejandro\n",
      "Loading biopac data for participant: 37_alejandro\n",
      "Synchronising mask and eye tracking files.\n",
      "Finished synchronising mask and eye tracking files\n",
      "Synchronising mask and biopac files.\n",
      "Finished synchronising mask and biopac files\n",
      "Downsampling and combining data\n",
      "Finished data processing for participant: 37_alejandro\n",
      "Generating new synced participant file for participant: 38_ryan_davies\n",
      "Loading Air condition Data\n",
      "2022-09-14 10:35:34 UTC\n",
      "Loading mask data for participant: 38_ryan_davies\n",
      "Finished mask loading data for participant: 38_ryan_davies\n",
      "Loading eye data for participant: 38_ryan_davies\n",
      "Imputing eye tracking data\n",
      "Finished loading eye data for participant: 38_ryan_davies\n",
      "Loading biopac data for participant: 38_ryan_davies\n",
      "Synchronising mask and eye tracking files.\n",
      "Finished synchronising mask and eye tracking files\n",
      "Synchronising mask and biopac files.\n",
      "Finished synchronising mask and biopac files\n",
      "Loading CO2 condition Data\n",
      "Loading mask data for participant: 38_ryan_davies\n",
      "Finished mask loading data for participant: 38_ryan_davies\n",
      "Loading eye data for participant: 38_ryan_davies\n",
      "Imputing eye tracking data\n",
      "Finished loading eye data for participant: 38_ryan_davies\n",
      "Loading biopac data for participant: 38_ryan_davies\n",
      "Synchronising mask and eye tracking files.\n",
      "Finished synchronising mask and eye tracking files\n",
      "Synchronising mask and biopac files.\n",
      "Finished synchronising mask and biopac files\n",
      "Downsampling and combining data\n",
      "Finished data processing for participant: 38_ryan_davies\n",
      "Generating new synced participant file for participant: 43_kacper_dworski\n",
      "Loading Air condition Data\n",
      "2022-09-21 11:26:56 UTC\n",
      "Loading mask data for participant: 43_kacper_dworski\n",
      "Finished mask loading data for participant: 43_kacper_dworski\n",
      "Loading eye data for participant: 43_kacper_dworski\n",
      "Imputing eye tracking data\n",
      "Finished loading eye data for participant: 43_kacper_dworski\n",
      "Loading biopac data for participant: 43_kacper_dworski\n",
      "Synchronising mask and eye tracking files.\n",
      "Finished synchronising mask and eye tracking files\n",
      "Synchronising mask and biopac files.\n",
      "Finished synchronising mask and biopac files\n",
      "Loading CO2 condition Data\n",
      "Loading mask data for participant: 43_kacper_dworski\n",
      "Finished mask loading data for participant: 43_kacper_dworski\n",
      "Loading eye data for participant: 43_kacper_dworski\n",
      "Imputing eye tracking data\n",
      "Finished loading eye data for participant: 43_kacper_dworski\n",
      "Loading biopac data for participant: 43_kacper_dworski\n",
      "Synchronising mask and eye tracking files.\n",
      "Finished synchronising mask and eye tracking files\n",
      "Synchronising mask and biopac files.\n",
      "Finished synchronising mask and biopac files\n",
      "Downsampling and combining data\n",
      "Finished data processing for participant: 43_kacper_dworski\n",
      "Generating new synced participant file for participant: 44_jamie_holden\n",
      "Loading Air condition Data\n",
      "2022-09-21 16:25:21 UTC\n",
      "Loading mask data for participant: 44_jamie_holden\n",
      "Finished mask loading data for participant: 44_jamie_holden\n",
      "Loading eye data for participant: 44_jamie_holden\n",
      "Imputing eye tracking data\n",
      "Finished loading eye data for participant: 44_jamie_holden\n",
      "Loading biopac data for participant: 44_jamie_holden\n",
      "Synchronising mask and eye tracking files.\n",
      "Finished synchronising mask and eye tracking files\n",
      "Synchronising mask and biopac files.\n",
      "Finished synchronising mask and biopac files\n",
      "Loading CO2 condition Data\n",
      "Loading mask data for participant: 44_jamie_holden\n",
      "Finished mask loading data for participant: 44_jamie_holden\n",
      "Loading eye data for participant: 44_jamie_holden\n",
      "Imputing eye tracking data\n",
      "Finished loading eye data for participant: 44_jamie_holden\n",
      "Loading biopac data for participant: 44_jamie_holden\n",
      "Synchronising mask and eye tracking files.\n",
      "Finished synchronising mask and eye tracking files\n",
      "Synchronising mask and biopac files.\n",
      "Finished synchronising mask and biopac files\n",
      "Downsampling and combining data\n",
      "Finished data processing for participant: 44_jamie_holden\n",
      "Generating new synced participant file for participant: 45_bilaal_rashid\n",
      "Loading Air condition Data\n",
      "2022-09-22 10:16:59 UTC\n",
      "Loading mask data for participant: 45_bilaal_rashid\n",
      "Finished mask loading data for participant: 45_bilaal_rashid\n",
      "Loading eye data for participant: 45_bilaal_rashid\n",
      "Imputing eye tracking data\n",
      "Finished loading eye data for participant: 45_bilaal_rashid\n",
      "Loading biopac data for participant: 45_bilaal_rashid\n",
      "Synchronising mask and eye tracking files.\n",
      "Finished synchronising mask and eye tracking files\n",
      "Synchronising mask and biopac files.\n",
      "Finished synchronising mask and biopac files\n",
      "Loading CO2 condition Data\n",
      "Loading mask data for participant: 45_bilaal_rashid\n",
      "Finished mask loading data for participant: 45_bilaal_rashid\n",
      "Loading eye data for participant: 45_bilaal_rashid\n",
      "Imputing eye tracking data\n",
      "Finished loading eye data for participant: 45_bilaal_rashid\n",
      "Loading biopac data for participant: 45_bilaal_rashid\n",
      "Synchronising mask and eye tracking files.\n",
      "Finished synchronising mask and eye tracking files\n",
      "Synchronising mask and biopac files.\n",
      "Finished synchronising mask and biopac files\n",
      "Downsampling and combining data\n",
      "Finished data processing for participant: 45_bilaal_rashid\n",
      "Generating new synced participant file for participant: 46_james_ogorman\n",
      "Loading Air condition Data\n",
      "2022-09-22 13:39:56 UTC\n",
      "Loading mask data for participant: 46_james_ogorman\n",
      "Finished mask loading data for participant: 46_james_ogorman\n",
      "Loading eye data for participant: 46_james_ogorman\n",
      "Imputing eye tracking data\n",
      "Finished loading eye data for participant: 46_james_ogorman\n",
      "Loading biopac data for participant: 46_james_ogorman\n",
      "Synchronising mask and eye tracking files.\n",
      "Finished synchronising mask and eye tracking files\n",
      "Synchronising mask and biopac files.\n",
      "Finished synchronising mask and biopac files\n",
      "Loading CO2 condition Data\n",
      "Loading mask data for participant: 46_james_ogorman\n",
      "Finished mask loading data for participant: 46_james_ogorman\n",
      "Loading eye data for participant: 46_james_ogorman\n",
      "Imputing eye tracking data\n",
      "Finished loading eye data for participant: 46_james_ogorman\n",
      "Loading biopac data for participant: 46_james_ogorman\n",
      "Synchronising mask and eye tracking files.\n",
      "Finished synchronising mask and eye tracking files\n",
      "Synchronising mask and biopac files.\n",
      "Finished synchronising mask and biopac files\n",
      "Downsampling and combining data\n",
      "Finished data processing for participant: 46_james_ogorman\n",
      "Generating new synced participant file for participant: 47_haveer_dookhit\n",
      "Loading Air condition Data\n",
      "2022-09-22 16:27:42 UTC\n",
      "Loading mask data for participant: 47_haveer_dookhit\n",
      "Finished mask loading data for participant: 47_haveer_dookhit\n",
      "Loading eye data for participant: 47_haveer_dookhit\n",
      "Imputing eye tracking data\n",
      "Finished loading eye data for participant: 47_haveer_dookhit\n",
      "Loading biopac data for participant: 47_haveer_dookhit\n",
      "Synchronising mask and eye tracking files.\n",
      "Finished synchronising mask and eye tracking files\n",
      "Synchronising mask and biopac files.\n",
      "Finished synchronising mask and biopac files\n",
      "Loading CO2 condition Data\n",
      "Loading mask data for participant: 47_haveer_dookhit\n",
      "Finished mask loading data for participant: 47_haveer_dookhit\n",
      "Loading eye data for participant: 47_haveer_dookhit\n",
      "Imputing eye tracking data\n",
      "Finished loading eye data for participant: 47_haveer_dookhit\n",
      "Loading biopac data for participant: 47_haveer_dookhit\n",
      "Synchronising mask and eye tracking files.\n",
      "Finished synchronising mask and eye tracking files\n",
      "Synchronising mask and biopac files.\n",
      "Finished synchronising mask and biopac files\n",
      "Downsampling and combining data\n",
      "Finished data processing for participant: 47_haveer_dookhit\n",
      "Generating new synced participant file for participant: 48_rishi_nayan\n",
      "Loading Air condition Data\n",
      "2022-09-23 11:10:33 UTC\n",
      "Loading mask data for participant: 48_rishi_nayan\n",
      "Finished mask loading data for participant: 48_rishi_nayan\n",
      "Loading eye data for participant: 48_rishi_nayan\n",
      "Imputing eye tracking data\n",
      "Finished loading eye data for participant: 48_rishi_nayan\n",
      "Loading biopac data for participant: 48_rishi_nayan\n",
      "Synchronising mask and eye tracking files.\n",
      "Finished synchronising mask and eye tracking files\n",
      "Synchronising mask and biopac files.\n",
      "Finished synchronising mask and biopac files\n",
      "Loading CO2 condition Data\n",
      "Loading mask data for participant: 48_rishi_nayan\n",
      "Finished mask loading data for participant: 48_rishi_nayan\n",
      "Loading eye data for participant: 48_rishi_nayan\n",
      "Imputing eye tracking data\n",
      "Finished loading eye data for participant: 48_rishi_nayan\n",
      "Loading biopac data for participant: 48_rishi_nayan\n",
      "Synchronising mask and eye tracking files.\n",
      "Finished synchronising mask and eye tracking files\n",
      "Synchronising mask and biopac files.\n",
      "Finished synchronising mask and biopac files\n",
      "Downsampling and combining data\n",
      "Finished data processing for participant: 48_rishi_nayan\n",
      "Generating new synced participant file for participant: 49_harris_hadjiantonis\n",
      "Loading Air condition Data\n",
      "2022-09-23 13:27:30 UTC\n",
      "Loading mask data for participant: 49_harris_hadjiantonis\n",
      "Finished mask loading data for participant: 49_harris_hadjiantonis\n",
      "Loading eye data for participant: 49_harris_hadjiantonis\n",
      "Imputing eye tracking data\n",
      "Finished loading eye data for participant: 49_harris_hadjiantonis\n",
      "Loading biopac data for participant: 49_harris_hadjiantonis\n",
      "Synchronising mask and eye tracking files.\n",
      "Finished synchronising mask and eye tracking files\n",
      "Synchronising mask and biopac files.\n",
      "Finished synchronising mask and biopac files\n",
      "Loading CO2 condition Data\n",
      "Loading mask data for participant: 49_harris_hadjiantonis\n",
      "Finished mask loading data for participant: 49_harris_hadjiantonis\n",
      "Loading eye data for participant: 49_harris_hadjiantonis\n",
      "Imputing eye tracking data\n",
      "Finished loading eye data for participant: 49_harris_hadjiantonis\n",
      "Loading biopac data for participant: 49_harris_hadjiantonis\n",
      "Synchronising mask and eye tracking files.\n",
      "Finished synchronising mask and eye tracking files\n",
      "Synchronising mask and biopac files.\n",
      "Finished synchronising mask and biopac files\n",
      "Downsampling and combining data\n",
      "Finished data processing for participant: 49_harris_hadjiantonis\n",
      "Generating new synced participant file for participant: 51_marton_nagy\n",
      "Loading Air condition Data\n",
      "2022-09-24 09:05:48 UTC\n",
      "Loading mask data for participant: 51_marton_nagy\n",
      "Finished mask loading data for participant: 51_marton_nagy\n",
      "Loading eye data for participant: 51_marton_nagy\n",
      "Imputing eye tracking data\n",
      "Finished loading eye data for participant: 51_marton_nagy\n",
      "Loading biopac data for participant: 51_marton_nagy\n",
      "Synchronising mask and eye tracking files.\n",
      "Finished synchronising mask and eye tracking files\n",
      "Synchronising mask and biopac files.\n",
      "Finished synchronising mask and biopac files\n",
      "Loading CO2 condition Data\n",
      "Loading mask data for participant: 51_marton_nagy\n",
      "Finished mask loading data for participant: 51_marton_nagy\n",
      "Loading eye data for participant: 51_marton_nagy\n",
      "Imputing eye tracking data\n",
      "Finished loading eye data for participant: 51_marton_nagy\n",
      "Loading biopac data for participant: 51_marton_nagy\n",
      "Synchronising mask and eye tracking files.\n",
      "Finished synchronising mask and eye tracking files\n",
      "Synchronising mask and biopac files.\n",
      "Finished synchronising mask and biopac files\n",
      "Downsampling and combining data\n",
      "Finished data processing for participant: 51_marton_nagy\n",
      "Generating new synced participant file for participant: 52_thomas_charnock\n",
      "Loading Air condition Data\n",
      "2022-09-24 13:14:42 UTC\n",
      "Loading mask data for participant: 52_thomas_charnock\n",
      "Finished mask loading data for participant: 52_thomas_charnock\n",
      "Loading eye data for participant: 52_thomas_charnock\n",
      "Imputing eye tracking data\n",
      "Finished loading eye data for participant: 52_thomas_charnock\n",
      "Loading biopac data for participant: 52_thomas_charnock\n",
      "Synchronising mask and eye tracking files.\n",
      "Finished synchronising mask and eye tracking files\n",
      "Synchronising mask and biopac files.\n",
      "Finished synchronising mask and biopac files\n",
      "Loading CO2 condition Data\n",
      "Loading mask data for participant: 52_thomas_charnock\n",
      "Finished mask loading data for participant: 52_thomas_charnock\n",
      "Loading eye data for participant: 52_thomas_charnock\n",
      "Imputing eye tracking data\n",
      "Finished loading eye data for participant: 52_thomas_charnock\n",
      "Loading biopac data for participant: 52_thomas_charnock\n",
      "Synchronising mask and eye tracking files.\n",
      "Finished synchronising mask and eye tracking files\n",
      "Synchronising mask and biopac files.\n",
      "Finished synchronising mask and biopac files\n",
      "Downsampling and combining data\n",
      "Finished data processing for participant: 52_thomas_charnock\n",
      "Generating new synced participant file for participant: 53_lewis_grout\n",
      "Loading Air condition Data\n",
      "2022-09-27 08:58:58 UTC\n",
      "Loading mask data for participant: 53_lewis_grout\n",
      "Finished mask loading data for participant: 53_lewis_grout\n",
      "Loading eye data for participant: 53_lewis_grout\n",
      "Imputing eye tracking data\n",
      "Finished loading eye data for participant: 53_lewis_grout\n",
      "Loading biopac data for participant: 53_lewis_grout\n",
      "Synchronising mask and eye tracking files.\n",
      "Finished synchronising mask and eye tracking files\n",
      "Synchronising mask and biopac files.\n",
      "Finished synchronising mask and biopac files\n",
      "Loading CO2 condition Data\n",
      "Loading mask data for participant: 53_lewis_grout\n",
      "Finished mask loading data for participant: 53_lewis_grout\n",
      "Loading eye data for participant: 53_lewis_grout\n",
      "Imputing eye tracking data\n",
      "Finished loading eye data for participant: 53_lewis_grout\n",
      "Loading biopac data for participant: 53_lewis_grout\n",
      "Synchronising mask and eye tracking files.\n",
      "Finished synchronising mask and eye tracking files\n",
      "Synchronising mask and biopac files.\n",
      "Finished synchronising mask and biopac files\n",
      "Downsampling and combining data\n",
      "Finished data processing for participant: 53_lewis_grout\n",
      "Generating new synced participant file for participant: 54_pranav_sistla\n",
      "Loading Air condition Data\n",
      "2022-09-27 10:51:43 UTC\n",
      "Loading mask data for participant: 54_pranav_sistla\n",
      "Finished mask loading data for participant: 54_pranav_sistla\n",
      "Loading eye data for participant: 54_pranav_sistla\n",
      "Imputing eye tracking data\n",
      "Finished loading eye data for participant: 54_pranav_sistla\n",
      "Loading biopac data for participant: 54_pranav_sistla\n",
      "Synchronising mask and eye tracking files.\n",
      "Finished synchronising mask and eye tracking files\n",
      "Synchronising mask and biopac files.\n",
      "Finished synchronising mask and biopac files\n",
      "Loading CO2 condition Data\n",
      "Loading mask data for participant: 54_pranav_sistla\n",
      "Finished mask loading data for participant: 54_pranav_sistla\n",
      "Loading eye data for participant: 54_pranav_sistla\n",
      "Imputing eye tracking data\n",
      "Finished loading eye data for participant: 54_pranav_sistla\n",
      "Loading biopac data for participant: 54_pranav_sistla\n",
      "Synchronising mask and eye tracking files.\n",
      "Finished synchronising mask and eye tracking files\n",
      "Synchronising mask and biopac files.\n",
      "Finished synchronising mask and biopac files\n",
      "Downsampling and combining data\n",
      "Finished data processing for participant: 54_pranav_sistla\n",
      "Generating new synced participant file for participant: 55_matthew_lui\n",
      "Loading Air condition Data\n",
      "2022-09-27 13:42:47 UTC\n",
      "Loading mask data for participant: 55_matthew_lui\n",
      "Finished mask loading data for participant: 55_matthew_lui\n",
      "Loading eye data for participant: 55_matthew_lui\n",
      "Imputing eye tracking data\n",
      "Finished loading eye data for participant: 55_matthew_lui\n",
      "Loading biopac data for participant: 55_matthew_lui\n",
      "Synchronising mask and eye tracking files.\n",
      "Finished synchronising mask and eye tracking files\n",
      "Synchronising mask and biopac files.\n",
      "Finished synchronising mask and biopac files\n",
      "Loading CO2 condition Data\n",
      "Loading mask data for participant: 55_matthew_lui\n",
      "Finished mask loading data for participant: 55_matthew_lui\n",
      "Loading eye data for participant: 55_matthew_lui\n",
      "Imputing eye tracking data\n",
      "Finished loading eye data for participant: 55_matthew_lui\n",
      "Loading biopac data for participant: 55_matthew_lui\n",
      "Synchronising mask and eye tracking files.\n",
      "Finished synchronising mask and eye tracking files\n",
      "Synchronising mask and biopac files.\n",
      "Finished synchronising mask and biopac files\n",
      "Downsampling and combining data\n",
      "Finished data processing for participant: 55_matthew_lui\n",
      "Generating new synced participant file for participant: 57_yasir_chowdhury\n",
      "Loading Air condition Data\n",
      "2022-09-27 17:24:35 UTC\n",
      "Loading mask data for participant: 57_yasir_chowdhury\n",
      "Finished mask loading data for participant: 57_yasir_chowdhury\n",
      "Loading eye data for participant: 57_yasir_chowdhury\n",
      "Imputing eye tracking data\n",
      "Finished loading eye data for participant: 57_yasir_chowdhury\n",
      "Loading biopac data for participant: 57_yasir_chowdhury\n",
      "Synchronising mask and eye tracking files.\n",
      "Finished synchronising mask and eye tracking files\n",
      "Synchronising mask and biopac files.\n",
      "Finished synchronising mask and biopac files\n",
      "Loading CO2 condition Data\n",
      "Loading mask data for participant: 57_yasir_chowdhury\n",
      "Finished mask loading data for participant: 57_yasir_chowdhury\n",
      "Loading eye data for participant: 57_yasir_chowdhury\n",
      "Imputing eye tracking data\n",
      "Finished loading eye data for participant: 57_yasir_chowdhury\n",
      "Loading biopac data for participant: 57_yasir_chowdhury\n",
      "Synchronising mask and eye tracking files.\n",
      "Finished synchronising mask and eye tracking files\n",
      "Synchronising mask and biopac files.\n",
      "Finished synchronising mask and biopac files\n",
      "Downsampling and combining data\n",
      "Finished data processing for participant: 57_yasir_chowdhury\n",
      "Generating new synced participant file for participant: 59_malcolm_easton\n",
      "Loading Air condition Data\n",
      "2022-09-28 14:30:05 UTC\n",
      "Loading mask data for participant: 59_malcolm_easton\n",
      "Finished mask loading data for participant: 59_malcolm_easton\n",
      "Loading eye data for participant: 59_malcolm_easton\n",
      "Imputing eye tracking data\n",
      "Finished loading eye data for participant: 59_malcolm_easton\n",
      "Loading biopac data for participant: 59_malcolm_easton\n",
      "Synchronising mask and eye tracking files.\n",
      "Finished synchronising mask and eye tracking files\n",
      "Synchronising mask and biopac files.\n",
      "Finished synchronising mask and biopac files\n",
      "Loading CO2 condition Data\n",
      "Loading mask data for participant: 59_malcolm_easton\n",
      "Finished mask loading data for participant: 59_malcolm_easton\n",
      "Loading eye data for participant: 59_malcolm_easton\n",
      "Imputing eye tracking data\n",
      "Finished loading eye data for participant: 59_malcolm_easton\n",
      "Loading biopac data for participant: 59_malcolm_easton\n",
      "Synchronising mask and eye tracking files.\n",
      "Finished synchronising mask and eye tracking files\n",
      "Synchronising mask and biopac files.\n",
      "Finished synchronising mask and biopac files\n",
      "Downsampling and combining data\n",
      "Finished data processing for participant: 59_malcolm_easton\n",
      "Generating new synced participant file for participant: 60_hamant_rana\n",
      "Loading Air condition Data\n",
      "2022-09-28 16:43:34 UTC\n",
      "Loading mask data for participant: 60_hamant_rana\n",
      "Finished mask loading data for participant: 60_hamant_rana\n",
      "Loading eye data for participant: 60_hamant_rana\n",
      "Imputing eye tracking data\n",
      "Finished loading eye data for participant: 60_hamant_rana\n",
      "Loading biopac data for participant: 60_hamant_rana\n",
      "Synchronising mask and eye tracking files.\n",
      "Finished synchronising mask and eye tracking files\n",
      "Synchronising mask and biopac files.\n",
      "Finished synchronising mask and biopac files\n",
      "Loading CO2 condition Data\n",
      "Loading mask data for participant: 60_hamant_rana\n",
      "Finished mask loading data for participant: 60_hamant_rana\n",
      "Loading eye data for participant: 60_hamant_rana\n",
      "Imputing eye tracking data\n",
      "Finished loading eye data for participant: 60_hamant_rana\n",
      "Loading biopac data for participant: 60_hamant_rana\n",
      "Synchronising mask and eye tracking files.\n",
      "Finished synchronising mask and eye tracking files\n",
      "Synchronising mask and biopac files.\n",
      "Finished synchronising mask and biopac files\n",
      "Downsampling and combining data\n",
      "Finished data processing for participant: 60_hamant_rana\n",
      "Generating new synced participant file for participant: 61_freddie_simpson\n",
      "Loading Air condition Data\n",
      "2022-09-29 10:12:03 UTC\n",
      "Loading mask data for participant: 61_freddie_simpson\n",
      "Finished mask loading data for participant: 61_freddie_simpson\n",
      "Loading eye data for participant: 61_freddie_simpson\n",
      "Imputing eye tracking data\n",
      "Finished loading eye data for participant: 61_freddie_simpson\n",
      "Loading biopac data for participant: 61_freddie_simpson\n",
      "Synchronising mask and eye tracking files.\n",
      "Finished synchronising mask and eye tracking files\n",
      "Synchronising mask and biopac files.\n",
      "Finished synchronising mask and biopac files\n",
      "Loading CO2 condition Data\n",
      "Loading mask data for participant: 61_freddie_simpson\n",
      "Finished mask loading data for participant: 61_freddie_simpson\n",
      "Loading eye data for participant: 61_freddie_simpson\n",
      "Imputing eye tracking data\n",
      "Finished loading eye data for participant: 61_freddie_simpson\n",
      "Loading biopac data for participant: 61_freddie_simpson\n",
      "Synchronising mask and eye tracking files.\n",
      "Finished synchronising mask and eye tracking files\n",
      "Synchronising mask and biopac files.\n",
      "Finished synchronising mask and biopac files\n",
      "Downsampling and combining data\n",
      "Finished data processing for participant: 61_freddie_simpson\n",
      "Generating new synced participant file for participant: 62_timothy_dsouza\n",
      "Loading Air condition Data\n",
      "2022-09-29 12:09:26 UTC\n",
      "Loading mask data for participant: 62_timothy_dsouza\n",
      "Finished mask loading data for participant: 62_timothy_dsouza\n",
      "Loading eye data for participant: 62_timothy_dsouza\n",
      "Imputing eye tracking data\n",
      "Finished loading eye data for participant: 62_timothy_dsouza\n",
      "Loading biopac data for participant: 62_timothy_dsouza\n",
      "Synchronising mask and eye tracking files.\n",
      "Finished synchronising mask and eye tracking files\n",
      "Synchronising mask and biopac files.\n",
      "Finished synchronising mask and biopac files\n",
      "Loading CO2 condition Data\n",
      "Loading mask data for participant: 62_timothy_dsouza\n",
      "Finished mask loading data for participant: 62_timothy_dsouza\n",
      "Loading eye data for participant: 62_timothy_dsouza\n",
      "Imputing eye tracking data\n",
      "Finished loading eye data for participant: 62_timothy_dsouza\n",
      "Loading biopac data for participant: 62_timothy_dsouza\n",
      "Synchronising mask and eye tracking files.\n",
      "Finished synchronising mask and eye tracking files\n",
      "Synchronising mask and biopac files.\n",
      "Finished synchronising mask and biopac files\n",
      "Downsampling and combining data\n",
      "Finished data processing for participant: 62_timothy_dsouza\n",
      "Generating new synced participant file for participant: 63_reuben_moerman\n",
      "Loading Air condition Data\n",
      "2022-09-29 14:30:23 UTC\n",
      "Loading mask data for participant: 63_reuben_moerman\n",
      "Finished mask loading data for participant: 63_reuben_moerman\n",
      "Loading eye data for participant: 63_reuben_moerman\n",
      "Imputing eye tracking data\n",
      "Finished loading eye data for participant: 63_reuben_moerman\n",
      "Loading biopac data for participant: 63_reuben_moerman\n",
      "Synchronising mask and eye tracking files.\n",
      "Finished synchronising mask and eye tracking files\n",
      "Synchronising mask and biopac files.\n",
      "Finished synchronising mask and biopac files\n",
      "Loading CO2 condition Data\n",
      "Loading mask data for participant: 63_reuben_moerman\n",
      "Finished mask loading data for participant: 63_reuben_moerman\n",
      "Loading eye data for participant: 63_reuben_moerman\n",
      "Imputing eye tracking data\n",
      "Finished loading eye data for participant: 63_reuben_moerman\n",
      "Loading biopac data for participant: 63_reuben_moerman\n",
      "Synchronising mask and eye tracking files.\n",
      "Finished synchronising mask and eye tracking files\n",
      "Synchronising mask and biopac files.\n",
      "Finished synchronising mask and biopac files\n",
      "Downsampling and combining data\n",
      "Finished data processing for participant: 63_reuben_moerman\n"
     ]
    }
   ],
   "source": [
    "# Loop that generates downsampled, synced files for every participant\n",
    "for participant_id in participant_ids:\n",
    "    participant_to_retrieve = participant_id\n",
    "    participant_file_index = file_index[0][participant_to_retrieve]\n",
    "    participant = Participant(participant_file_index['id'])\n",
    "    \n",
    "    synced_participant_file = os.path.join(synced_data_directory, str(participant.id)) + '.csv'\n",
    "    if(os.path.exists(synced_participant_file)):\n",
    "        print('Synced file for participant: ' + str(participant.id) + ' found. Loading existing file.')\n",
    "        participant.set_synced_data(pd.read_csv(synced_participant_file))\n",
    "    else:\n",
    "        print('Generating new synced participant file for participant: ' + str(participant.id))\n",
    "        \n",
    "        # AIR\n",
    "        if(participant_file_index[AirFiles.MASK.value] is None):\n",
    "            print('Air mask file missing')\n",
    "        else:\n",
    "            print('Loading Air condition Data')\n",
    "            air_mask_file = participant_file_index[AirFiles.MASK.value]\n",
    "            air_event_file = participant_file_index[AirFiles.EVENT.value]\n",
    "            air_eyetracking_file = participant_file_index[AirFiles.EYE.value]\n",
    "            air_biopac_file = participant_file_index[AirFiles.BIOPAC.value]\n",
    "            air_biopac_start_unix = participant_file_index[AirFiles.BIOPAC_UNIX_START_TIME.value]\n",
    "            print(read_unix(air_biopac_start_unix))\n",
    "\n",
    "            # Load mask data\n",
    "            participant.set_air_mask_data(DataHandler.load_mask_data(air_mask_file, air_event_file, participant.id))\n",
    "            # Load eye tracking data\n",
    "            participant.set_air_eye_data(DataHandler.load_eyetracking_data(air_eyetracking_file, participant.id, 'air'))  \n",
    "            # Load biopac data\n",
    "            participant.set_air_biopac_data(DataHandler.load_biopac_data(air_biopac_file, air_biopac_start_unix, participant.id))  \n",
    "            # Sync eye tracking and biopac data\n",
    "            participant.set_air_synced_data(DataHandler.sync_signal_data(participant.air_mask_data, participant.air_eye_data, participant.air_biopac_data, air_biopac_start_unix))\n",
    "\n",
    "        #CO2\n",
    "        print('Loading CO2 condition Data')\n",
    "        co2_mask_file = participant_file_index[CO2Files.MASK.value]\n",
    "        co2_event_file = participant_file_index[CO2Files.EVENT.value]\n",
    "        co2_eyetracking_file = participant_file_index[CO2Files.EYE.value]\n",
    "        co2_biopac_file = participant_file_index[CO2Files.BIOPAC.value]\n",
    "        co2_biopac_start_unix = participant_file_index[CO2Files.BIOPAC_UNIX_START_TIME.value]\n",
    "\n",
    "        # Load mask data\n",
    "        participant.set_co2_mask_data(DataHandler.load_mask_data(co2_mask_file, co2_event_file, participant.id))\n",
    "        # Load eye tracking data\n",
    "        participant.set_co2_eye_data(DataHandler.load_eyetracking_data(co2_eyetracking_file, participant.id, 'co2'))  \n",
    "        # Load biopac data\n",
    "        participant.set_co2_biopac_data(DataHandler.load_biopac_data(co2_biopac_file, co2_biopac_start_unix, participant.id))  \n",
    "        # Sync eye tracking and biopac data\n",
    "        participant.set_co2_synced_data(DataHandler.sync_signal_data(participant.co2_mask_data, participant.co2_eye_data, participant.co2_biopac_data, co2_biopac_start_unix))\n",
    "    \n",
    "        print('Downsampling and combining data')\n",
    "        #Downsample and combine data. This data is also saved\n",
    "        participant.set_synced_data(DataHandler.downsample_participant_data(participant.id, DataHandler.label_data(participant.air_synced_data), DataHandler.label_data(participant.co2_synced_data)))\n",
    "    \n",
    "    # Filter data\n",
    "    filtered_data = DataHandler.filter_data(participant.synced_data)\n",
    "    # Normalise data per participant\n",
    "    normalised_data = DataHandler.normalise_data(filtered_data)\n",
    "    \n",
    "    #Plots.participant_overview(normalised_data, True)\n",
    "    \n",
    "    # Feature extraction\n",
    "    #windowed_features = DataHandler.extract_features(normalised_data)\n",
    "    #segment_features = DataHandler.extract_features_entire_condition(normalised_data)\n",
    "    # ML\n",
    "    print('Finished data processing for participant: ' + participant.id)\n",
    "\n"
   ]
  },
  {
   "cell_type": "code",
   "execution_count": 72,
   "id": "9ac55992",
   "metadata": {},
   "outputs": [],
   "source": [
    "# Merge individual participant windowed feature files \n",
    "combined_features_windowed = DataHandler.merge_participant_windowed_feature_files()"
   ]
  },
  {
   "cell_type": "code",
   "execution_count": 73,
   "id": "243a2e55",
   "metadata": {},
   "outputs": [],
   "source": [
    "# Merge individual participant segment feature files\n",
    "combined_features_segments = DataHandler.merge_participant_segment_feature_files()"
   ]
  },
  {
   "cell_type": "code",
   "execution_count": 74,
   "id": "bae67eef",
   "metadata": {},
   "outputs": [],
   "source": [
    "# Filter gas inhalation segments, detele any rows with any empty values and export to CSV for ML\n",
    "gas_inhalation_df = combined_features_windowed[combined_features_windowed['Segment']=='gas_inhalation']\n",
    "gas_inhalation_df.dropna(inplace=True)\n",
    "gas_inhalation_df.to_csv(os.path.join(os.getcwd(), 'temp', 'gas_inhalation_df2.csv'), index=False)"
   ]
  },
  {
   "cell_type": "code",
   "execution_count": null,
   "id": "ea942b4d",
   "metadata": {},
   "outputs": [],
   "source": []
  }
 ],
 "metadata": {
  "kernelspec": {
   "display_name": "Python 3 (Spyder)",
   "language": "python3",
   "name": "python3"
  },
  "language_info": {
   "codemirror_mode": {
    "name": "ipython",
    "version": 3
   },
   "file_extension": ".py",
   "mimetype": "text/x-python",
   "name": "python",
   "nbconvert_exporter": "python",
   "pygments_lexer": "ipython3",
   "version": "3.11.4"
  }
 },
 "nbformat": 4,
 "nbformat_minor": 5
}
