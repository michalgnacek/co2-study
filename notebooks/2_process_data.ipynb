{
 "cells": [
  {
   "cell_type": "markdown",
   "id": "794dd392",
   "metadata": {},
   "source": [
    "# VR CO2 Study - Data processing\n",
    "\n",
    "This notebook does the following:\n",
    "\n",
    "1. x\n",
    "2. y\n",
    "3. z\n",
    "\n",
    "Input: input\n",
    "Output: output"
   ]
  },
  {
   "cell_type": "code",
   "execution_count": null,
   "id": "714802c6",
   "metadata": {},
   "outputs": [],
   "source": [
    "# TODO\n",
    "#1. Participant 1 CO2 mask data time is weird"
   ]
  },
  {
   "cell_type": "code",
   "execution_count": null,
   "id": "afa5aa30",
   "metadata": {},
   "outputs": [],
   "source": [
    "# Imports\n",
    "import os\n",
    "if('notebooks' in os.getcwd()):\n",
    "    os.chdir('..')\n",
    "import json\n",
    "import pandas as pd\n",
    "from utils.constants import AirFiles, CO2Files, DATA_COLUMNS, FREQUENCIES\n",
    "from utils.load_data import load_data_with_event_matching\n",
    "from utils.timestamps import read_unix, read_j2000, j2000_to_unix, generate_biopac_unix_timestamps\n",
    "from classes.Participant import Participant\n",
    "from classes.DataHandler import DataHandler\n",
    "from classes.Filters import Filters\n",
    "import numpy as np\n",
    "import matplotlib.pyplot as plt\n",
    "from utils.plots import plot_eyetracking_filter\n"
   ]
  },
  {
   "cell_type": "code",
   "execution_count": null,
   "id": "d8f11743",
   "metadata": {},
   "outputs": [],
   "source": [
    "# Open file index JSON for reading\n",
    "file_index = pd.read_json(os.path.join(os.getcwd(), 'temp/file_index.json'))\n",
    "file_index = file_index.sort_index()\n",
    "participant_ids = file_index.index\n",
    "participant_ids"
   ]
  },
  {
   "cell_type": "code",
   "execution_count": null,
   "id": "473823ba",
   "metadata": {},
   "outputs": [],
   "source": [
    "participant_ids = [1]"
   ]
  },
  {
   "cell_type": "code",
   "execution_count": null,
   "id": "e7b13202",
   "metadata": {},
   "outputs": [],
   "source": [
    "for participant_id in participant_ids:\n",
    "    participant_to_retrieve = participant_id\n",
    "    participant_file_index = file_index[0][participant_to_retrieve]\n",
    "    participant = Participant(participant_file_index['id'])\n",
    "    \n",
    "    # AIR\n",
    "    print('Loading Air condition Data')\n",
    "    air_mask_file = participant_file_index[AirFiles.MASK.value]\n",
    "    air_event_file = participant_file_index[AirFiles.EVENT.value]\n",
    "    air_eyetracking_file = participant_file_index[AirFiles.EYE.value]\n",
    "    air_biopac_file = participant_file_index[AirFiles.BIOPAC.value]\n",
    "    air_biopac_start_unix = participant_file_index[AirFiles.BIOPAC_UNIX_START_TIME.value]\n",
    "\n",
    "    # Load mask data\n",
    "    participant.set_air_mask_data(DataHandler.load_mask_data(air_mask_file, air_event_file, participant.id))\n",
    "    # Load eye tracking data\n",
    "    participant.set_air_eye_data(DataHandler.load_eyetracking_data(air_eyetracking_file, participant.id, 'air'))  \n",
    "    # Load biopac data\n",
    "    participant.set_air_biopac_data(DataHandler.load_biopac_data(air_biopac_file, air_biopac_start_unix, participant.id))  \n",
    "    # Sync eye tracking and biopac data\n",
    "    participant.set_air_synced_data(DataHandler.sync_signal_data(participant.air_mask_data, participant.air_eye_data, participant.air_biopac_data, air_biopac_start_unix))\n",
    "\n",
    "    #CO2\n",
    "    print('Loading CO2 condition Data')\n",
    "    co2_mask_file = participant_file_index[CO2Files.MASK.value]\n",
    "    co2_event_file = participant_file_index[CO2Files.EVENT.value]\n",
    "    co2_eyetracking_file = participant_file_index[CO2Files.EYE.value]\n",
    "    co2_biopac_file = participant_file_index[CO2Files.BIOPAC.value]\n",
    "    co2_biopac_start_unix = participant_file_index[CO2Files.BIOPAC_UNIX_START_TIME.value]\n",
    "\n",
    "    # Load mask data\n",
    "    participant.set_co2_mask_data(DataHandler.load_mask_data(co2_mask_file, co2_event_file, participant.id))\n",
    "    # Load eye tracking data\n",
    "    participant.set_co2_eye_data(DataHandler.load_eyetracking_data(co2_eyetracking_file, participant.id, 'co2'))  \n",
    "    # Load biopac data\n",
    "    participant.set_co2_biopac_data(DataHandler.load_biopac_data(co2_biopac_file, co2_biopac_start_unix, participant.id))  \n",
    "    # Sync eye tracking and biopac data\n",
    "    participant.set_co2_synced_data(DataHandler.sync_signal_data(participant.co2_mask_data, participant.co2_eye_data, participant.co2_biopac_data, co2_biopac_start_unix))\n",
    "    \n",
    "    # Filter data\n",
    "    # Normalise data\n",
    "    # Feature extraction\n",
    "    # ML\n",
    "    \n",
    "\n",
    "    \n",
    "    print('Finished data processing for participant: ' + participant.id)\n",
    "\n"
   ]
  },
  {
   "cell_type": "code",
   "execution_count": null,
   "id": "b2de27b8",
   "metadata": {},
   "outputs": [],
   "source": [
    "#TODO: update to filter both pupils\n",
    "test = Filters.filter_pupil_size(participant.air_synced_data)\n",
    "plot_eyetracking_filter(participant.air_synced_data['VerboseData.Left.PupilDiameterMm'], test['VerboseData.Left.PupilDiameterMm'], participant.id, 'air')"
   ]
  },
  {
   "cell_type": "code",
   "execution_count": null,
   "id": "b828c546",
   "metadata": {},
   "outputs": [],
   "source": [
    "#EXAMPLES ON HOW TO RETRIEVE DATA"
   ]
  },
  {
   "cell_type": "code",
   "execution_count": null,
   "id": "babd7b96",
   "metadata": {},
   "outputs": [],
   "source": [
    "participant.get_expression_calibration_data('air')"
   ]
  },
  {
   "cell_type": "code",
   "execution_count": null,
   "id": "0c894eca",
   "metadata": {},
   "outputs": [],
   "source": [
    "participant.get_brightness_calibration_data('air')"
   ]
  },
  {
   "cell_type": "code",
   "execution_count": null,
   "id": "217e1f25",
   "metadata": {},
   "outputs": [],
   "source": [
    "participant.get_condition_data('air')"
   ]
  },
  {
   "cell_type": "code",
   "execution_count": null,
   "id": "c27a330e",
   "metadata": {},
   "outputs": [],
   "source": [
    "# Filter data with the fitstate threshold.\n",
    "# POTENTIAL ISSUE WHEN ROWS WITH EVENT DATA ARE REMOVED. Should probably do it after\n",
    "Filters.filter_fit_state_threshold(participant.get_expression_calibration_data('air'))"
   ]
  },
  {
   "cell_type": "code",
   "execution_count": null,
   "id": "46fdfb30",
   "metadata": {},
   "outputs": [],
   "source": [
    "# Pass participant synced data for normalisation. Different normalisation methods per modality are used\n",
    "# IMPLEMENT LATER SEE BELOW\n",
    "# THIS DOESNT WORK YET\n",
    "test = DataHandler.normalise_data(participant.get_expression_calibration_data('air'), participant.get_brightness_calibration_data('air'), participant.get_condition_data('air'), participant.air_synced_data)\n",
    "\n",
    "\n"
   ]
  },
  {
   "cell_type": "code",
   "execution_count": null,
   "id": "348af627",
   "metadata": {},
   "outputs": [],
   "source": [
    "from sklearn.preprocessing import MinMaxScaler\n",
    "#THIS WORKS BUT MEAN FILLING IS BAD\n",
    "left_eye_min_max_scaler = MinMaxScaler()\n",
    "eye_tracking_df = pd.DataFrame(participant.get_brightness_calibration_data('air')[DATA_COLUMNS.EYE_LEFT_PUPIL_SIZE.value])\n",
    "synced_data = pd.DataFrame(participant.air_synced_data[DATA_COLUMNS.EYE_LEFT_PUPIL_SIZE.value])\n",
    "left_eye_min_max_scaler.fit(eye_tracking_df)\n",
    "scaled = left_eye_min_max_scaler.transform(synced_data)\n",
    "scaled = pd.DataFrame(scaled, columns=synced_data.columns, index=synced_data.index)\n",
    "#left_eye_min_max_scaler = MinMaxScaler()\n",
    "#left_eye_min_max_scaler.fit([participant.air_synced_data[DATA_COLUMNS.EYE_LEFT_PUPIL_SIZE.value]])\n",
    "#test = left_eye_min_max_scaler.fit_transform([participant.air_synced_data[DATA_COLUMNS.EYE_LEFT_PUPIL_SIZE.value]])"
   ]
  },
  {
   "cell_type": "code",
   "execution_count": null,
   "id": "39a3950a",
   "metadata": {},
   "outputs": [],
   "source": [
    "print(read_unix(1664462826.77676))\n",
    "print(read_unix(1664462826.8157))"
   ]
  },
  {
   "cell_type": "code",
   "execution_count": null,
   "id": "10501064",
   "metadata": {},
   "outputs": [],
   "source": [
    "# Convert J2000\n",
    "print(read_j2000(704397173515))"
   ]
  },
  {
   "cell_type": "code",
   "execution_count": null,
   "id": "f3fb6688",
   "metadata": {},
   "outputs": [],
   "source": []
  },
  {
   "cell_type": "code",
   "execution_count": null,
   "id": "63890896",
   "metadata": {},
   "outputs": [],
   "source": []
  }
 ],
 "metadata": {
  "kernelspec": {
   "display_name": "Python 3 (Spyder)",
   "language": "python3",
   "name": "python3"
  },
  "language_info": {
   "codemirror_mode": {
    "name": "ipython",
    "version": 3
   },
   "file_extension": ".py",
   "mimetype": "text/x-python",
   "name": "python",
   "nbconvert_exporter": "python",
   "pygments_lexer": "ipython3",
   "version": "3.9.13"
  }
 },
 "nbformat": 4,
 "nbformat_minor": 5
}
