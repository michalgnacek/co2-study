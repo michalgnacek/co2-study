{
 "cells": [
  {
   "cell_type": "markdown",
   "id": "0a93b852",
   "metadata": {},
   "source": [
    "# VR CO2 Study - Data processing\n",
    "\n",
    "This notebook does the following:\n",
    "\n",
    "1. x\n",
    "2. y\n",
    "3. z\n",
    "\n",
    "Input: input\n",
    "Output: output"
   ]
  },
  {
   "cell_type": "code",
   "execution_count": null,
   "id": "558a54f8",
   "metadata": {},
   "outputs": [],
   "source": [
    "# Imports\n",
    "import os\n",
    "if('notebooks' in os.getcwd()):\n",
    "    os.chdir('..')\n",
    "import json\n",
    "import pandas as pd\n",
    "from utils.enums import AirFiles, CO2Files\n",
    "from utils.load_data import load_data_with_event_matching\n",
    "from utils.timestamps import read_unix, read_j2000, j2000_to_unix\n",
    "import numpy as np\n"
   ]
  },
  {
   "cell_type": "code",
   "execution_count": null,
   "id": "7799cbe9",
   "metadata": {},
   "outputs": [],
   "source": [
    "# Open file index JSON for reading\n",
    "file_index = pd.read_json(os.path.join(os.getcwd(), 'temp/file_index.json'))\n",
    "file_index = file_index.sort_index()"
   ]
  },
  {
   "cell_type": "code",
   "execution_count": null,
   "id": "d1293732",
   "metadata": {},
   "outputs": [],
   "source": [
    "# Example how to retrieve file names for a participant\n",
    "participant_to_retrieve = 1\n",
    "air_mask_file = file_index[0][participant_to_retrieve-1][AirFiles.MASK.value]\n",
    "air_event_file = file_index[0][participant_to_retrieve-1][AirFiles.EVENT.value]"
   ]
  },
  {
   "cell_type": "code",
   "execution_count": null,
   "id": "6a90f06f",
   "metadata": {},
   "outputs": [],
   "source": [
    "participant_df = pd.DataFrame()\n",
    "if os.path.exists(air_mask_file):\n",
    "    if os.path.exists(air_mask_file):\n",
    "        print('Loading data for participant: ' + str(file_index[0][participant_to_retrieve-1]['id']))\n",
    "        participant_df = load_data_with_event_matching(air_mask_file, True, air_event_file)\n",
    "        print('Finished loading data for participant: ' + str(file_index[0][participant_to_retrieve-1]['id']))\n",
    "        participant_df\n",
    "    else:\n",
    "        print(\"Event file missing for participant: \" + str(participant_to_retrieve))\n",
    "else:\n",
    "    print(\"Mask file missing for participant: \" + str(participant_to_retrieve))\n",
    "\n",
    "\n",
    "\n"
   ]
  },
  {
   "cell_type": "code",
   "execution_count": null,
   "id": "da0c147a",
   "metadata": {},
   "outputs": [],
   "source": [
    "# Load eye tracking data\n",
    "participant_eye_df = pd.DataFrame()\n",
    "air_eyetracking_file = file_index[0][participant_to_retrieve-1][AirFiles.EYE.value]\n",
    "\n",
    "if os.path.exists(air_eyetracking_file):\n",
    "    print('Loading eye data for participant: ' + str(file_index[0][participant_to_retrieve-1]['id']))\n",
    "    participant_eye_df = pd.read_csv(air_eyetracking_file)\n",
    "    print('Finished loading eye data for participant: ' + str(file_index[0][participant_to_retrieve-1]['id']))\n",
    "    participant_eye_df\n",
    "else:\n",
    "    print(\"Eye file missing for participant: \" + str(participant_to_retrieve))"
   ]
  },
  {
   "cell_type": "code",
   "execution_count": null,
   "id": "607ffb86",
   "metadata": {},
   "outputs": [],
   "source": [
    "# Add eye tracking data\n",
    "\n",
    "# Potential improvements: ignore first 10 eye tracking values\n",
    "\n",
    "if participant_df.empty or participant_eye_df.empty:\n",
    "    print('Cant synchronise eye tracking data. One of the files is empty')\n",
    "else:\n",
    "    #Some eye tracking files (participants 1-9) have empty 'TimestampUnix column'. Use their 'TimestampJ2000' to calculate unix column\n",
    "    if np.mean(participant_eye_df['TimestampUnix'].values)==0:\n",
    "        print('TimestampUnix column for eye data is empty. Converting J2000 timestamps to Unix')\n",
    "        j2000_timestamps = participant_eye_df['TimestampJ2000']\n",
    "        unix_timestamps = []\n",
    "        for j2000_timestamp in j2000_timestamps:\n",
    "            unix_timestamps.append(j2000_to_unix(j2000_timestamp))\n",
    "        participant_eye_df['TimestampUnix']=unix_timestamps\n",
    "        \n",
    "    participant_eye_df['TimestampUnix'] = participant_eye_df['TimestampUnix']/1000\n",
    "        \n",
    "    # TODO: SYNCHRONISE EYE DATA WITH MASK DF\n",
    "    print('Synchronising mask and eye data files.')\n",
    "    columns = ['VerboseData.Right.PupilDiameterMm', 'VerboseData.Left.PupilDiameterMm']\n",
    "    synced_eye_df = pd.DataFrame(np.nan, index=participant_df.index, columns=columns)\n",
    "    for index, eye_data_row in participant_eye_df.iterrows():\n",
    "        timestamp_to_find = eye_data_row['TimestampUnix']\n",
    "        event_row_index = participant_df['unix_timestamp'].searchsorted(timestamp_to_find)\n",
    "        synced_eye_df.loc[event_row_index] = eye_data_row[columns]\n",
    "    # eye data file sometimes runs for a few seconds longer than the mask data. \n",
    "    # Sync function above contiounsly overwrites last row of data with those eye data frames. Set the last row back to 0 for forward propagation later.     \n",
    "    synced_eye_df.loc[len(synced_eye_df)-1]=np.nan\n",
    "    participant_df[columns] = synced_eye_df\n",
    "    print('Forward filling eye tracking data')\n",
    "    participant_df[columns] = participant_df[columns].ffill()\n",
    "    print('Finished synchronising eye tracking with mask data')\n",
    "    "
   ]
  },
  {
   "cell_type": "code",
   "execution_count": null,
   "id": "869c5ee0",
   "metadata": {},
   "outputs": [],
   "source": [
    "participant_df"
   ]
  },
  {
   "cell_type": "code",
   "execution_count": null,
   "id": "33ac3965",
   "metadata": {},
   "outputs": [],
   "source": [
    "# Add biopac data"
   ]
  },
  {
   "cell_type": "code",
   "execution_count": null,
   "id": "bbd8a6df",
   "metadata": {},
   "outputs": [],
   "source": [
    "# Convert Unix\n",
    "print(read_unix(1651081973.94119))"
   ]
  },
  {
   "cell_type": "code",
   "execution_count": null,
   "id": "b61925c4",
   "metadata": {},
   "outputs": [],
   "source": [
    "# Convert J2000\n",
    "print(read_j2000(704397173515))"
   ]
  },
  {
   "cell_type": "code",
   "execution_count": null,
   "id": "c64590d0",
   "metadata": {},
   "outputs": [],
   "source": []
  },
  {
   "cell_type": "code",
   "execution_count": null,
   "id": "8884dbe2",
   "metadata": {},
   "outputs": [],
   "source": []
  }
 ],
 "metadata": {
  "kernelspec": {
   "display_name": "Python 3 (Spyder)",
   "language": "python3",
   "name": "python3"
  },
  "language_info": {
   "codemirror_mode": {
    "name": "ipython",
    "version": 3
   },
   "file_extension": ".py",
   "mimetype": "text/x-python",
   "name": "python",
   "nbconvert_exporter": "python",
   "pygments_lexer": "ipython3",
   "version": "3.9.13"
  }
 },
 "nbformat": 4,
 "nbformat_minor": 5
}
