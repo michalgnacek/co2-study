{
 "cells": [
  {
   "cell_type": "markdown",
   "id": "a994c2c6",
   "metadata": {},
   "source": [
    "# VR CO2 Study - Data processing\n",
    "\n",
    "This notebook does the following:\n",
    "\n",
    "1. x\n",
    "2. y\n",
    "3. z\n",
    "\n",
    "Input: input\n",
    "Output: output"
   ]
  },
  {
   "cell_type": "code",
   "execution_count": null,
   "id": "0dc20536",
   "metadata": {},
   "outputs": [],
   "source": [
    "# TODO\n",
    "#1. Participant 1 CO2 mask data time is weird"
   ]
  },
  {
   "cell_type": "code",
   "execution_count": null,
   "id": "a4301aeb",
   "metadata": {},
   "outputs": [],
   "source": [
    "# Imports\n",
    "import os\n",
    "if('notebooks' in os.getcwd()):\n",
    "    os.chdir('..')\n",
    "import json\n",
    "import pandas as pd\n",
    "from utils.constants import AirFiles, CO2Files, DATA_COLUMNS, FREQUENCIES\n",
    "from utils.load_data import load_data_with_event_matching\n",
    "from utils.timestamps import read_unix, read_j2000, j2000_to_unix, generate_biopac_unix_timestamps\n",
    "from classes.Participant import Participant\n",
    "from classes.DataHandler import DataHandler\n",
    "from classes.Filters import Filters\n",
    "import numpy as np\n",
    "import matplotlib.pyplot as plt\n",
    "from utils.plots import plot_eyetracking_filter, plot_participant_overview\n",
    "from utils.normalisation import eye_tracking as normalise_pupil_size\n"
   ]
  },
  {
   "cell_type": "code",
   "execution_count": null,
   "id": "9b278c8c",
   "metadata": {},
   "outputs": [],
   "source": [
    "# Open file index JSON for reading\n",
    "file_index = pd.read_json(os.path.join(os.getcwd(), 'temp/file_index.json'))\n",
    "file_index = file_index.sort_index()\n",
    "participant_ids = file_index.index\n",
    "participant_ids"
   ]
  },
  {
   "cell_type": "code",
   "execution_count": null,
   "id": "654c13b7",
   "metadata": {},
   "outputs": [],
   "source": [
    "participant_ids = [1]\n",
    "synced_data_directory = os.path.join(os.getcwd(), 'temp', 'synced_participant_data')"
   ]
  },
  {
   "cell_type": "code",
   "execution_count": null,
   "id": "38554012",
   "metadata": {},
   "outputs": [],
   "source": [
    "# Loop that generates downsampled, synced files for every participant\n",
    "for participant_id in participant_ids:\n",
    "    participant_to_retrieve = participant_id\n",
    "    participant_file_index = file_index[0][participant_to_retrieve]\n",
    "    participant = Participant(participant_file_index['id'])\n",
    "    \n",
    "    synced_participant_file = os.path.join(synced_data_directory, str(participant.id)) + '.csv'\n",
    "    if(os.path.exists(synced_participant_file)):\n",
    "        print('Synced file for participant: ' + str(participant.id) + ' found. Loading existing file.')\n",
    "        participant.set_synced_data(pd.read_csv(synced_participant_file))\n",
    "    else:\n",
    "        print('Generating new synced participant file for participant: ' + str(participant.id))\n",
    "        # AIR\n",
    "        print('Loading Air condition Data')\n",
    "        air_mask_file = participant_file_index[AirFiles.MASK.value]\n",
    "        air_event_file = participant_file_index[AirFiles.EVENT.value]\n",
    "        air_eyetracking_file = participant_file_index[AirFiles.EYE.value]\n",
    "        air_biopac_file = participant_file_index[AirFiles.BIOPAC.value]\n",
    "        air_biopac_start_unix = participant_file_index[AirFiles.BIOPAC_UNIX_START_TIME.value]\n",
    "        print(read_unix(air_biopac_start_unix))\n",
    "\n",
    "        # Load mask data\n",
    "        participant.set_air_mask_data(DataHandler.load_mask_data(air_mask_file, air_event_file, participant.id))\n",
    "        # Load eye tracking data\n",
    "        participant.set_air_eye_data(DataHandler.load_eyetracking_data(air_eyetracking_file, participant.id, 'air'))  \n",
    "        # Load biopac data\n",
    "        participant.set_air_biopac_data(DataHandler.load_biopac_data(air_biopac_file, air_biopac_start_unix, participant.id))  \n",
    "        # Sync eye tracking and biopac data\n",
    "        participant.set_air_synced_data(DataHandler.sync_signal_data(participant.air_mask_data, participant.air_eye_data, participant.air_biopac_data, air_biopac_start_unix))\n",
    "\n",
    "        #CO2\n",
    "        print('Loading CO2 condition Data')\n",
    "        co2_mask_file = participant_file_index[CO2Files.MASK.value]\n",
    "        co2_event_file = participant_file_index[CO2Files.EVENT.value]\n",
    "        co2_eyetracking_file = participant_file_index[CO2Files.EYE.value]\n",
    "        co2_biopac_file = participant_file_index[CO2Files.BIOPAC.value]\n",
    "        co2_biopac_start_unix = participant_file_index[CO2Files.BIOPAC_UNIX_START_TIME.value]\n",
    "\n",
    "        # Load mask data\n",
    "        participant.set_co2_mask_data(DataHandler.load_mask_data(co2_mask_file, co2_event_file, participant.id))\n",
    "        # Load eye tracking data\n",
    "        participant.set_co2_eye_data(DataHandler.load_eyetracking_data(co2_eyetracking_file, participant.id, 'co2'))  \n",
    "        # Load biopac data\n",
    "        participant.set_co2_biopac_data(DataHandler.load_biopac_data(co2_biopac_file, co2_biopac_start_unix, participant.id))  \n",
    "        # Sync eye tracking and biopac data\n",
    "        participant.set_co2_synced_data(DataHandler.sync_signal_data(participant.co2_mask_data, participant.co2_eye_data, participant.co2_biopac_data, co2_biopac_start_unix))\n",
    "    \n",
    "        print('Downsampling and combining data')\n",
    "        #Downsample and combine data. This data is also saved\n",
    "        participant.set_synced_data(DataHandler.downsample_participant_data(participant.id, DataHandler.label_data(participant.air_synced_data), DataHandler.label_data(participant.co2_synced_data)))\n",
    "    #TO DO GSR IS GONE nan in saved \n",
    "    \n",
    "    normalised_data = DataHandler.normalise_data(participant.synced_data)\n",
    "    plot_participant_overview(normalised_data, True)\n",
    "    \n",
    "    # Filter data\n",
    "    # Normalise data\n",
    "    # Feature extraction\n",
    "    # ML\n",
    "    print('Finished data processing for participant: ' + participant.id)\n",
    "\n"
   ]
  },
  {
   "cell_type": "code",
   "execution_count": null,
   "id": "1bfae64f",
   "metadata": {},
   "outputs": [],
   "source": [
    "plt.plot(normalised_data['VerboseData.Left.PupilDiameterMm'])"
   ]
  },
  {
   "cell_type": "code",
   "execution_count": null,
   "id": "d8bd40fe",
   "metadata": {},
   "outputs": [],
   "source": [
    "plt.plot(normalised_data['Biopac_GSR'])"
   ]
  },
  {
   "cell_type": "code",
   "execution_count": null,
   "id": "af8f5eac",
   "metadata": {},
   "outputs": [],
   "source": [
    "plt.plot(normalised_data['Emg/Amplitude[CenterCorrugator]'])"
   ]
  },
  {
   "cell_type": "code",
   "execution_count": null,
   "id": "680d52a7",
   "metadata": {},
   "outputs": [],
   "source": [
    "plt.plot(normalised_data['Emg/Amplitude[CenterCorrugator]'][(normalised_data['Condition'] == 'CO2') & (normalised_data['Segment'] == 'gas_inhalation')])"
   ]
  },
  {
   "cell_type": "code",
   "execution_count": null,
   "id": "4b5c2a83",
   "metadata": {},
   "outputs": [],
   "source": [
    "#TODO: update to filter both pupils\n",
    "test = Filters.filter_pupil_size(participant.air_synced_data)\n",
    "plot_eyetracking_filter(participant.air_synced_data['VerboseData.Left.PupilDiameterMm'], test['VerboseData.Left.PupilDiameterMm'], participant.id, 'air')"
   ]
  },
  {
   "cell_type": "code",
   "execution_count": null,
   "id": "3319c85d",
   "metadata": {},
   "outputs": [],
   "source": [
    "#EXAMPLES ON HOW TO RETRIEVE DATA"
   ]
  },
  {
   "cell_type": "code",
   "execution_count": null,
   "id": "8664ec2f",
   "metadata": {},
   "outputs": [],
   "source": [
    "participant.get_expression_calibration_data('air')"
   ]
  },
  {
   "cell_type": "code",
   "execution_count": null,
   "id": "2b36a37b",
   "metadata": {},
   "outputs": [],
   "source": [
    "participant.get_brightness_calibration_data('air')"
   ]
  },
  {
   "cell_type": "code",
   "execution_count": null,
   "id": "51b6b88f",
   "metadata": {},
   "outputs": [],
   "source": [
    "participant.get_condition_data('air')"
   ]
  },
  {
   "cell_type": "code",
   "execution_count": null,
   "id": "013c833f",
   "metadata": {},
   "outputs": [],
   "source": [
    "test = DataHandler.downsample_participant_data(participant.id, participant.get_expression_calibration_data('air'), \n",
    "                                  participant.get_brightness_calibration_data('air'), participant.get_condition_data('air'), \n",
    "                                  participant.get_expression_calibration_data('co2'), participant.get_brightness_calibration_data('co2'), \n",
    "                                  participant.get_condition_data('co2'))"
   ]
  },
  {
   "cell_type": "code",
   "execution_count": null,
   "id": "cb548d47",
   "metadata": {},
   "outputs": [],
   "source": [
    "# Filter data with the fitstate threshold.\n",
    "# POTENTIAL ISSUE WHEN ROWS WITH EVENT DATA ARE REMOVED. Should probably do it after\n",
    "Filters.filter_fit_state_threshold(participant.get_expression_calibration_data('air'))"
   ]
  },
  {
   "cell_type": "code",
   "execution_count": null,
   "id": "401c1beb",
   "metadata": {},
   "outputs": [],
   "source": [
    "# Pass participant synced data for normalisation. Different normalisation methods per modality are used\n",
    "# IMPLEMENT LATER SEE BELOW\n",
    "# THIS DOESNT WORK YET\n",
    "test2 = DataHandler.normalise_data(test)\n",
    "\n",
    "\n"
   ]
  },
  {
   "cell_type": "code",
   "execution_count": null,
   "id": "af93a32b",
   "metadata": {},
   "outputs": [],
   "source": [
    "test3 = normalise_pupil_size(test)"
   ]
  },
  {
   "cell_type": "code",
   "execution_count": null,
   "id": "6c45b28c",
   "metadata": {},
   "outputs": [],
   "source": [
    "from sklearn.preprocessing import MinMaxScaler\n",
    "#THIS WORKS BUT MEAN FILLING IS BAD\n",
    "left_eye_min_max_scaler = MinMaxScaler()\n",
    "eye_tracking_df = pd.DataFrame(participant.get_brightness_calibration_data('air')[DATA_COLUMNS.EYE_LEFT_PUPIL_SIZE.value])\n",
    "synced_data = pd.DataFrame(participant.air_synced_data[DATA_COLUMNS.EYE_LEFT_PUPIL_SIZE.value])\n",
    "left_eye_min_max_scaler.fit(eye_tracking_df)\n",
    "scaled = left_eye_min_max_scaler.transform(synced_data)\n",
    "scaled = pd.DataFrame(scaled, columns=synced_data.columns, index=synced_data.index)\n",
    "#left_eye_min_max_scaler = MinMaxScaler()\n",
    "#left_eye_min_max_scaler.fit([participant.air_synced_data[DATA_COLUMNS.EYE_LEFT_PUPIL_SIZE.value]])\n",
    "#test = left_eye_min_max_scaler.fit_transform([participant.air_synced_data[DATA_COLUMNS.EYE_LEFT_PUPIL_SIZE.value]])"
   ]
  },
  {
   "cell_type": "code",
   "execution_count": null,
   "id": "8d689191",
   "metadata": {},
   "outputs": [],
   "source": [
    "print(read_unix(1651321906.96))\n",
    "#mask\n",
    "print(read_unix(1651320319.88089))"
   ]
  },
  {
   "cell_type": "code",
   "execution_count": null,
   "id": "685e2c93",
   "metadata": {},
   "outputs": [],
   "source": [
    "# Convert J2000\n",
    "print(read_j2000(704397173515))"
   ]
  },
  {
   "cell_type": "code",
   "execution_count": null,
   "id": "7d8485ba",
   "metadata": {},
   "outputs": [],
   "source": [
    "plt.plot(normalised_data['VerboseData.Left.PupilDiameterMm'][(normalised_data['Condition'] == 'AIR') & (normalised_data['Segment'] == 'gas_inhalation')])"
   ]
  },
  {
   "cell_type": "code",
   "execution_count": null,
   "id": "33d63419",
   "metadata": {},
   "outputs": [],
   "source": []
  }
 ],
 "metadata": {
  "kernelspec": {
   "display_name": "Python 3 (Spyder)",
   "language": "python3",
   "name": "python3"
  },
  "language_info": {
   "codemirror_mode": {
    "name": "ipython",
    "version": 3
   },
   "file_extension": ".py",
   "mimetype": "text/x-python",
   "name": "python",
   "nbconvert_exporter": "python",
   "pygments_lexer": "ipython3",
   "version": "3.9.13"
  }
 },
 "nbformat": 4,
 "nbformat_minor": 5
}
