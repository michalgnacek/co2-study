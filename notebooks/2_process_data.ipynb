{
 "cells": [
  {
   "cell_type": "markdown",
   "id": "01d2e5c9",
   "metadata": {},
   "source": [
    "# VR CO2 Study - Data processing\n",
    "\n",
    "This notebook does the following:\n",
    "\n",
    "1. x\n",
    "2. y\n",
    "3. z\n",
    "\n",
    "Input: input\n",
    "Output: output"
   ]
  },
  {
   "cell_type": "code",
   "execution_count": null,
   "id": "0ecf0147",
   "metadata": {},
   "outputs": [],
   "source": [
    "# Imports\n",
    "import os\n",
    "if('notebooks' in os.getcwd()):\n",
    "    os.chdir('..')\n",
    "import json\n",
    "import pandas as pd\n",
    "from utils.enums import AirFiles, CO2Files\n",
    "from utils.load_data import load_data_with_event_matching\n",
    "from utils.timestamps import read_unix, read_j2000, j2000_to_unix, biopac_file_name_to_unix, generate_biopac_unix_timestamps\n",
    "import numpy as np\n"
   ]
  },
  {
   "cell_type": "code",
   "execution_count": null,
   "id": "54040517",
   "metadata": {},
   "outputs": [],
   "source": [
    "# Open file index JSON for reading\n",
    "file_index = pd.read_json(os.path.join(os.getcwd(), 'temp/file_index.json'))\n",
    "file_index = file_index.sort_index()"
   ]
  },
  {
   "cell_type": "code",
   "execution_count": null,
   "id": "e125cf6b",
   "metadata": {},
   "outputs": [],
   "source": [
    "# Example how to retrieve file names for a participant\n",
    "participant_to_retrieve = 2\n",
    "air_mask_file = file_index[0][participant_to_retrieve-1][AirFiles.MASK.value]\n",
    "air_event_file = file_index[0][participant_to_retrieve-1][AirFiles.EVENT.value]"
   ]
  },
  {
   "cell_type": "code",
   "execution_count": null,
   "id": "13327bba",
   "metadata": {},
   "outputs": [],
   "source": [
    "participant_df = pd.DataFrame()\n",
    "if os.path.exists(air_mask_file):\n",
    "    if os.path.exists(air_mask_file):\n",
    "        print('Loading data for participant: ' + str(file_index[0][participant_to_retrieve-1]['id']))\n",
    "        participant_df = load_data_with_event_matching(air_mask_file, True, air_event_file)\n",
    "        print('Finished loading data for participant: ' + str(file_index[0][participant_to_retrieve-1]['id']))\n",
    "        participant_df\n",
    "    else:\n",
    "        print(\"Event file missing for participant: \" + str(participant_to_retrieve))\n",
    "else:\n",
    "    print(\"Mask file missing for participant: \" + str(participant_to_retrieve))\n",
    "\n",
    "\n",
    "\n"
   ]
  },
  {
   "cell_type": "code",
   "execution_count": null,
   "id": "e23175b8",
   "metadata": {},
   "outputs": [],
   "source": [
    "# Load eye tracking data\n",
    "participant_eye_df = pd.DataFrame()\n",
    "air_eyetracking_file = file_index[0][participant_to_retrieve-1][AirFiles.EYE.value]\n",
    "\n",
    "if os.path.exists(air_eyetracking_file):\n",
    "    print('Loading eye data for participant: ' + str(file_index[0][participant_to_retrieve-1]['id']))\n",
    "    participant_eye_df = pd.read_csv(air_eyetracking_file)\n",
    "    print('Finished loading eye data for participant: ' + str(file_index[0][participant_to_retrieve-1]['id']))\n",
    "    # First couple frames of eye tracking data are weird. Drop them.\n",
    "    participant_eye_df = participant_eye_df.drop(index=range(10)).reset_index(drop=True)\n",
    "else:\n",
    "    print(\"Eye file missing for participant: \" + str(participant_to_retrieve))"
   ]
  },
  {
   "cell_type": "code",
   "execution_count": null,
   "id": "a5c9b40a",
   "metadata": {},
   "outputs": [],
   "source": [
    "# Add eye tracking data\n",
    "\n",
    "# Potential improvements: \n",
    "# 1. ignore first 10 eye tracking values as they are a bit weird - DONE\n",
    "# 2. remove Magnetometer columns\n",
    "\n",
    "if participant_df.empty or participant_eye_df.empty:\n",
    "    print('Cant synchronise eye tracking data. One of the files is empty')\n",
    "else:\n",
    "    #Some eye tracking files (participants 1-9) have empty 'TimestampUnix column'. Use their 'TimestampJ2000' to calculate unix column\n",
    "    if np.mean(participant_eye_df['TimestampUnix'].values)==0:\n",
    "        print('TimestampUnix column for eye data is empty. Converting J2000 timestamps to Unix')\n",
    "        j2000_timestamps = participant_eye_df['TimestampJ2000']\n",
    "        unix_timestamps = []\n",
    "        for j2000_timestamp in j2000_timestamps:\n",
    "            unix_timestamps.append(j2000_to_unix(j2000_timestamp))\n",
    "        participant_eye_df['TimestampUnix']=unix_timestamps\n",
    "        \n",
    "    participant_eye_df['TimestampUnix'] = participant_eye_df['TimestampUnix']/1000\n",
    "        \n",
    "    # TODO: SYNCHRONISE EYE DATA WITH MASK DF\n",
    "    print('Synchronising mask and eye data files.')\n",
    "    eye_tracking_columns = ['VerboseData.Right.PupilDiameterMm', 'VerboseData.Left.PupilDiameterMm']\n",
    "    synced_eye_df = pd.DataFrame(np.nan, index=participant_df.index, columns=eye_tracking_columns)\n",
    "    for index, eye_data_row in participant_eye_df.iterrows():\n",
    "        timestamp_to_find = eye_data_row['TimestampUnix']\n",
    "        event_row_index = participant_df['unix_timestamp'].searchsorted(timestamp_to_find)\n",
    "        synced_eye_df.loc[event_row_index] = eye_data_row[eye_tracking_columns]\n",
    "    # eye data file sometimes runs for a few seconds longer than the mask data. \n",
    "    # Sync function above contiounsly overwrites last row of data with those eye data frames. Set the last row back to 0 for forward propagation later.     \n",
    "    synced_eye_df.loc[len(synced_eye_df)-1]=np.nan\n",
    "    participant_df[eye_tracking_columns] = synced_eye_df\n",
    "    print('Forward filling eye tracking data')\n",
    "    participant_df[eye_tracking_columns] = participant_df[eye_tracking_columns].ffill()\n",
    "    print('Finished synchronising eye tracking with mask data')\n",
    "    "
   ]
  },
  {
   "cell_type": "code",
   "execution_count": null,
   "id": "8a97c9ea",
   "metadata": {},
   "outputs": [],
   "source": [
    "# Add biopac data\n",
    "air_biopac_file = file_index[0][participant_to_retrieve-1][AirFiles.BIOPAC.value]\n",
    "biopac_start_unix = file_index[0][participant_to_retrieve-1][AirFiles.BIOPAC_UNIX_START_TIME.value]\n",
    "biopac_column_names = ['Biopac_GSR', 'Biopac_RSP']\n",
    "\n",
    "if os.path.exists(air_biopac_file) and biopac_start_unix:\n",
    "    print('Loading biopac data for participant: ' + str(file_index[0][participant_to_retrieve-1]['id']))\n",
    "    participant_biopac_df = pd.read_csv(air_biopac_file, names=biopac_column_names, index_col=False)\n",
    "    # Generate biopac unix timestamps at 1000hz from the start of the file\n",
    "    biopac_unix_timestamps = generate_biopac_unix_timestamps(participant_biopac_df, biopac_start_unix)\n",
    "    participant_biopac_df = pd.concat([participant_biopac_df,biopac_unix_timestamps], axis=1)\n",
    "    print('Synchronising biopac data with mask data')\n",
    "    \n",
    "    participant_df[biopac_column_names] = np.nan\n",
    "    if(biopac_start_unix>participant_df.loc[0]['unix_timestamp']):\n",
    "        print('Mask data started recording first')\n",
    "        #Mask data started recording first\n",
    "        #Find first matching frame of biopac data in mask\n",
    "        first_row_index = participant_df['unix_timestamp'].searchsorted(participant_biopac_df.loc[0]['unix_timestamp'])\n",
    "        # Since mask data started first, first n of rows in mask data will not have biopac data. Fill them with nans\n",
    "        nan_rows = pd.DataFrame(np.nan, index=np.arange(first_row_index), columns=biopac_column_names)\n",
    "        participant_biopac_df = pd.concat([nan_rows, participant_biopac_df]).reset_index(drop=True)\n",
    "    else:\n",
    "        print('Biopac data started recoridng first')\n",
    "        #Biopac data started recording first\n",
    "        #Find first matching frame of mask data in biopac\n",
    "        first_row_index = participant_biopac_df['unix_timestamp'].searchsorted(participant_df.loc[0]['unix_timestamp'])\n",
    "        #Since biopac started first, cant sync first n number of rows. Based on first shared timestamp, drop biopac data before mask recording started\n",
    "        participant_biopac_df = participant_biopac_df.loc[first_row_index:].reset_index(drop=True)\n",
    "        #now that both biopac and mask df start at the same time, trim biopac data to end when mask data ends based on the same frequency\n",
    "        participant_biopac_df = participant_biopac_df.loc[:len(participant_df)-1].reset_index(drop=True)\n",
    "    \n",
    "    # merge biopac and mask df\n",
    "    participant_df[biopac_column_names] = participant_biopac_df[biopac_column_names]"
   ]
  },
  {
   "cell_type": "code",
   "execution_count": null,
   "id": "064b3fd9",
   "metadata": {},
   "outputs": [],
   "source": [
    "# Convert Unix\n",
    "print(read_unix(1651321905.55484))"
   ]
  },
  {
   "cell_type": "code",
   "execution_count": null,
   "id": "0ea1173d",
   "metadata": {},
   "outputs": [],
   "source": [
    "# Convert J2000\n",
    "print(read_j2000(704397173515))"
   ]
  },
  {
   "cell_type": "code",
   "execution_count": null,
   "id": "817da7d3",
   "metadata": {},
   "outputs": [],
   "source": []
  },
  {
   "cell_type": "code",
   "execution_count": null,
   "id": "0ac80505",
   "metadata": {},
   "outputs": [],
   "source": []
  }
 ],
 "metadata": {
  "kernelspec": {
   "display_name": "Python 3 (Spyder)",
   "language": "python3",
   "name": "python3"
  },
  "language_info": {
   "codemirror_mode": {
    "name": "ipython",
    "version": 3
   },
   "file_extension": ".py",
   "mimetype": "text/x-python",
   "name": "python",
   "nbconvert_exporter": "python",
   "pygments_lexer": "ipython3",
   "version": "3.9.13"
  }
 },
 "nbformat": 4,
 "nbformat_minor": 5
}
