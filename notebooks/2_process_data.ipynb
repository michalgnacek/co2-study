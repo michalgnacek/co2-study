{
 "cells": [
  {
   "cell_type": "markdown",
   "id": "a8f51f79",
   "metadata": {},
   "source": [
    "# VR CO2 Study - Data processing\n",
    "\n",
    "This notebook does the following:\n",
    "\n",
    "1. x\n",
    "2. y\n",
    "3. z\n",
    "\n",
    "Input: input\n",
    "Output: output"
   ]
  },
  {
   "cell_type": "code",
   "execution_count": null,
   "id": "62515678",
   "metadata": {},
   "outputs": [],
   "source": [
    "# Imports\n",
    "import os\n",
    "if('notebooks' in os.getcwd()):\n",
    "    os.chdir('..')\n",
    "import json\n",
    "import pandas as pd\n",
    "from utils.constants import AirFiles, CO2Files\n",
    "from utils.load_data import load_data_with_event_matching\n",
    "from utils.timestamps import read_unix, read_j2000, j2000_to_unix, generate_biopac_unix_timestamps\n",
    "from classes.Participant import Participant\n",
    "from classes.DataHandler import DataHandler\n",
    "import numpy as np\n"
   ]
  },
  {
   "cell_type": "code",
   "execution_count": null,
   "id": "4f002594",
   "metadata": {},
   "outputs": [],
   "source": [
    "# Open file index JSON for reading\n",
    "file_index = pd.read_json(os.path.join(os.getcwd(), 'temp/file_index.json'))\n",
    "file_index = file_index.sort_index()\n",
    "participant_ids = file_index.index\n",
    "participant_ids"
   ]
  },
  {
   "cell_type": "code",
   "execution_count": null,
   "id": "78d2996e",
   "metadata": {},
   "outputs": [],
   "source": [
    "participant_ids = [0, 1]"
   ]
  },
  {
   "cell_type": "code",
   "execution_count": null,
   "id": "9ab8a38c",
   "metadata": {},
   "outputs": [],
   "source": [
    "for participant_id in participant_ids:\n",
    "    participant_to_retrieve = participant_id\n",
    "    participant_file_index = file_index[0][participant_to_retrieve]\n",
    "    participant = Participant(participant_file_index['id'])\n",
    "    \n",
    "    # AIR\n",
    "    print('Loading Air condition Data')\n",
    "    air_mask_file = participant_file_index[AirFiles.MASK.value]\n",
    "    air_event_file = participant_file_index[AirFiles.EVENT.value]\n",
    "    air_eyetracking_file = participant_file_index[AirFiles.EYE.value]\n",
    "    air_biopac_file = participant_file_index[AirFiles.BIOPAC.value]\n",
    "    air_biopac_start_unix = participant_file_index[AirFiles.BIOPAC_UNIX_START_TIME.value]\n",
    "\n",
    "    # Load mask data\n",
    "    participant.set_air_mask_data(DataHandler.load_mask_data(air_mask_file, air_event_file, participant.id))\n",
    "    # Load eye tracking data\n",
    "    participant.set_air_eye_data(DataHandler.load_eyetracking_data(air_eyetracking_file, participant.id))  \n",
    "    # Load biopac data\n",
    "    participant.set_air_biopac_data(DataHandler.load_biopac_data(air_biopac_file, air_biopac_start_unix, participant.id))  \n",
    "    # Sync eye tracking and biopac data\n",
    "    participant.set_air_synced_data(DataHandler.sync_signal_data(participant.air_mask_data, participant.air_eye_data, participant.air_biopac_data, air_biopac_start_unix))\n",
    "\n",
    "    #CO2\n",
    "    print('Loading CO2 condition Data')\n",
    "    co2_mask_file = participant_file_index[CO2Files.MASK.value]\n",
    "    co2_event_file = participant_file_index[CO2Files.EVENT.value]\n",
    "    co2_eyetracking_file = participant_file_index[CO2Files.EYE.value]\n",
    "    co2_biopac_file = participant_file_index[CO2Files.BIOPAC.value]\n",
    "    co2_biopac_start_unix = participant_file_index[CO2Files.BIOPAC_UNIX_START_TIME.value]\n",
    "\n",
    "    # Load mask data\n",
    "    participant.set_co2_mask_data(DataHandler.load_mask_data(co2_mask_file, co2_event_file, participant.id))\n",
    "    # Load eye tracking data\n",
    "    participant.set_co2_eye_data(DataHandler.load_eyetracking_data(co2_eyetracking_file, participant.id))  \n",
    "    # Load biopac data\n",
    "    participant.set_co2_biopac_data(DataHandler.load_biopac_data(co2_biopac_file, co2_biopac_start_unix, participant.id))  \n",
    "    # Sync eye tracking and biopac data\n",
    "    participant.set_co2_synced_data(DataHandler.sync_signal_data(participant.co2_mask_data, participant.co2_eye_data, participant.co2_biopac_data, co2_biopac_start_unix))\n",
    "    \n",
    "    print('Finished data processing for participant: ' + participant.id)\n",
    "\n"
   ]
  },
  {
   "cell_type": "code",
   "execution_count": null,
   "id": "302af3ee",
   "metadata": {},
   "outputs": [],
   "source": [
    "# Convert Unix\n",
    "print(read_unix(participant_file_index[AirFiles.BIOPAC_UNIX_START_TIME.value]))"
   ]
  },
  {
   "cell_type": "code",
   "execution_count": null,
   "id": "406b386a",
   "metadata": {},
   "outputs": [],
   "source": [
    "print(read_unix(participant.air_synced_data.loc[0]['Time']))"
   ]
  },
  {
   "cell_type": "code",
   "execution_count": null,
   "id": "d2faf080",
   "metadata": {},
   "outputs": [],
   "source": [
    "# Convert J2000\n",
    "print(read_j2000(704397173515))"
   ]
  },
  {
   "cell_type": "code",
   "execution_count": null,
   "id": "ad42fcc5",
   "metadata": {},
   "outputs": [],
   "source": []
  },
  {
   "cell_type": "code",
   "execution_count": null,
   "id": "11dd2672",
   "metadata": {},
   "outputs": [],
   "source": []
  }
 ],
 "metadata": {
  "kernelspec": {
   "display_name": "Python 3 (Spyder)",
   "language": "python3",
   "name": "python3"
  },
  "language_info": {
   "codemirror_mode": {
    "name": "ipython",
    "version": 3
   },
   "file_extension": ".py",
   "mimetype": "text/x-python",
   "name": "python",
   "nbconvert_exporter": "python",
   "pygments_lexer": "ipython3",
   "version": "3.9.13"
  }
 },
 "nbformat": 4,
 "nbformat_minor": 5
}
