{
 "cells": [
  {
   "cell_type": "markdown",
   "id": "3ba509cd",
   "metadata": {},
   "source": [
    "# VR CO2 Study - Data processing\n",
    "\n",
    "This notebook does the following:\n",
    "\n",
    "1. x\n",
    "2. y\n",
    "3. z\n",
    "\n",
    "Input: input\n",
    "Output: output"
   ]
  },
  {
   "cell_type": "code",
   "execution_count": null,
   "id": "53d90915",
   "metadata": {},
   "outputs": [],
   "source": [
    "# Imports\n",
    "import os\n",
    "if('notebooks' in os.getcwd()):\n",
    "    os.chdir('..')\n",
    "import json\n",
    "import pandas as pd\n",
    "from utils.constants import AirFiles, CO2Files\n",
    "from utils.load_data import load_data_with_event_matching\n",
    "from utils.timestamps import read_unix, read_j2000, j2000_to_unix, generate_biopac_unix_timestamps\n",
    "from classes.Participant import Participant\n",
    "from classes.DataHandler import DataHandler\n",
    "import numpy as np\n"
   ]
  },
  {
   "cell_type": "code",
   "execution_count": null,
   "id": "cddb99c7",
   "metadata": {},
   "outputs": [],
   "source": [
    "# Open file index JSON for reading\n",
    "file_index = pd.read_json(os.path.join(os.getcwd(), 'temp/file_index.json'))\n",
    "file_index = file_index.sort_index()"
   ]
  },
  {
   "cell_type": "code",
   "execution_count": null,
   "id": "21d3eddd",
   "metadata": {},
   "outputs": [],
   "source": [
    "# Example how to retrieve file names for a participant\n",
    "participant_to_retrieve = 2\n",
    "participant_file_index = file_index[0][participant_to_retrieve-1]\n",
    "participant = Participant(participant_file_index['id'])\n",
    "air_mask_file = participant_file_index[AirFiles.MASK.value]\n",
    "air_event_file = participant_file_index[AirFiles.EVENT.value]"
   ]
  },
  {
   "cell_type": "code",
   "execution_count": null,
   "id": "f9648b0c",
   "metadata": {},
   "outputs": [],
   "source": [
    "# Load mask data\n",
    "participant.set_air_mask_data(DataHandler.load_mask_data(air_mask_file, air_event_file, participant.id))"
   ]
  },
  {
   "cell_type": "code",
   "execution_count": null,
   "id": "38fe239a",
   "metadata": {},
   "outputs": [],
   "source": [
    "# Load eye tracking data\n",
    "participant.set_air_eye_data(DataHandler.load_eyetracking_data(participant_file_index[AirFiles.EYE.value], participant.id))  "
   ]
  },
  {
   "cell_type": "code",
   "execution_count": null,
   "id": "363f7aec",
   "metadata": {},
   "outputs": [],
   "source": [
    "# Load biopac data\n",
    "#DataHandler.load_biopac_data(participant_file_index[AirFiles.BIOPAC.value], participant_file_index[AirFiles.BIOPAC_UNIX_START_TIME.value], participant.id)\n",
    "participant.set_air_biopac_data(DataHandler.load_biopac_data(participant_file_index[AirFiles.BIOPAC.value], participant_file_index[AirFiles.BIOPAC_UNIX_START_TIME.value], participant.id))  "
   ]
  },
  {
   "cell_type": "code",
   "execution_count": null,
   "id": "22c80f10",
   "metadata": {},
   "outputs": [],
   "source": [
    "# Sync eye tracking and biopac data\n",
    "participant.set_air_synced_data(DataHandler.sync_signal_data(participant.air_mask_data, participant.air_eye_data, participant.air_biopac_data, \n",
    "                                                             participant_file_index[AirFiles.BIOPAC_UNIX_START_TIME.value]))"
   ]
  },
  {
   "cell_type": "code",
   "execution_count": null,
   "id": "02a506f1",
   "metadata": {},
   "outputs": [],
   "source": [
    "# Convert Unix\n",
    "print(read_unix(participant_file_index[AirFiles.BIOPAC_UNIX_START_TIME.value]))"
   ]
  },
  {
   "cell_type": "code",
   "execution_count": null,
   "id": "f1898def",
   "metadata": {},
   "outputs": [],
   "source": [
    "print(read_unix(participant.air_synced_data.loc[0]['Time']))"
   ]
  },
  {
   "cell_type": "code",
   "execution_count": null,
   "id": "ca4acdaf",
   "metadata": {},
   "outputs": [],
   "source": [
    "# Convert J2000\n",
    "print(read_j2000(704397173515))"
   ]
  },
  {
   "cell_type": "code",
   "execution_count": null,
   "id": "371aab01",
   "metadata": {},
   "outputs": [],
   "source": []
  },
  {
   "cell_type": "code",
   "execution_count": null,
   "id": "cb790b4f",
   "metadata": {},
   "outputs": [],
   "source": []
  }
 ],
 "metadata": {
  "kernelspec": {
   "display_name": "Python 3 (Spyder)",
   "language": "python3",
   "name": "python3"
  },
  "language_info": {
   "codemirror_mode": {
    "name": "ipython",
    "version": 3
   },
   "file_extension": ".py",
   "mimetype": "text/x-python",
   "name": "python",
   "nbconvert_exporter": "python",
   "pygments_lexer": "ipython3",
   "version": "3.9.13"
  }
 },
 "nbformat": 4,
 "nbformat_minor": 5
}
