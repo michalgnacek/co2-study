{
 "cells": [
  {
   "cell_type": "markdown",
   "id": "e79f3a10",
   "metadata": {},
   "source": [
    "# VR CO2 Study - Data processing\n",
    "\n",
    "This notebook does the following:\n",
    "\n",
    "1. x\n",
    "2. y\n",
    "3. z\n",
    "\n",
    "Input: input\n",
    "Output: output"
   ]
  },
  {
   "cell_type": "code",
   "execution_count": null,
   "id": "e65fd0b7",
   "metadata": {},
   "outputs": [],
   "source": [
    "# Imports\n",
    "import os\n",
    "if('notebooks' in os.getcwd()):\n",
    "    os.chdir('..')\n",
    "import json\n",
    "import pandas as pd\n",
    "from utils.enums import AirFiles, CO2Files\n",
    "from utils.load_data import load_data_with_event_matching\n",
    "import numpy as np\n",
    "import datetime\n"
   ]
  },
  {
   "cell_type": "code",
   "execution_count": null,
   "id": "6f330128",
   "metadata": {},
   "outputs": [],
   "source": [
    "# Open file index JSON for reading\n",
    "file_index = pd.read_json(os.path.join(os.getcwd(), 'temp/file_index.json'))\n",
    "file_index = file_index.sort_index()"
   ]
  },
  {
   "cell_type": "code",
   "execution_count": null,
   "id": "3b0e17d5",
   "metadata": {},
   "outputs": [],
   "source": [
    "# Example how to retrieve file names for a participant\n",
    "participant_to_retrieve = 62\n",
    "air_mask_file = file_index[0][participant_to_retrieve-1][AirFiles.MASK.value]\n",
    "air_event_file = file_index[0][participant_to_retrieve-1][AirFiles.EVENT.value]"
   ]
  },
  {
   "cell_type": "code",
   "execution_count": null,
   "id": "125823d7",
   "metadata": {},
   "outputs": [],
   "source": [
    "print('Loading data for participant: ' + str(file_index[0][participant_to_retrieve-1]['id']))\n",
    "participant_df = load_data_with_event_matching(air_mask_file, True, air_event_file)\n",
    "print('Finished loading data for participant: ' + str(file_index[0][participant_to_retrieve-1]['id']))\n",
    "participant_df"
   ]
  },
  {
   "cell_type": "code",
   "execution_count": null,
   "id": "ad47a69a",
   "metadata": {},
   "outputs": [],
   "source": [
    "# Load eye tracking data\n",
    "air_eyetracking_file = file_index[0][participant_to_retrieve-1][AirFiles.EYE.value]\n",
    "print('Loading eye data for participant: ' + str(file_index[0][participant_to_retrieve-1]['id']))\n",
    "participant_eye_df = pd.read_csv(air_eyetracking_file)\n",
    "print('Finished eye loading data for participant: ' + str(file_index[0][participant_to_retrieve-1]['id']))\n",
    "participant_eye_df"
   ]
  },
  {
   "cell_type": "code",
   "execution_count": null,
   "id": "cf89b09e",
   "metadata": {},
   "outputs": [],
   "source": [
    "# Add eye tracking data\n",
    "\n",
    "# TODO: CHECK IF EYE DATA FILE IS NOT EMPTY\n",
    "\n",
    "#Some eye tracking files (participants 1-9) have empty 'TimestampUnix column'. Use their 'TimestampJ2000' to calculate unix column\n",
    "if np.mean(participant_eye_df['TimestampUnix'].values)==0:\n",
    "    print('TimestampUnix column is empty. Convert J2000 to Unix')\n",
    "    j2000_timestamps = participant_eye_df['TimestampJ2000']\n",
    "    unix_timestamps = []\n",
    "    for j2000_timestamp in j2000_timestamps:\n",
    "        utc_date_time = datetime.datetime(2000, 1, 1, 0, 0) + datetime.timedelta(milliseconds=j2000_timestamp)\n",
    "        unix_timestamp = int(utc_date_time.timestamp()*1000)\n",
    "        unix_timestamps.append(unix_timestamp)\n",
    "    participant_eye_df['TimestampUnix']=unix_timestamps\n",
    "else:\n",
    "    print('TimestampUnix column is not empty.')\n",
    "    \n",
    "# TODO: SYNCHRONISE EYE DATA WITH MASK DF\n",
    "    \n"
   ]
  },
  {
   "cell_type": "code",
   "execution_count": null,
   "id": "59de2664",
   "metadata": {},
   "outputs": [],
   "source": []
  },
  {
   "cell_type": "code",
   "execution_count": null,
   "id": "89ea0ed0",
   "metadata": {},
   "outputs": [],
   "source": []
  },
  {
   "cell_type": "code",
   "execution_count": null,
   "id": "54341a48",
   "metadata": {},
   "outputs": [],
   "source": []
  },
  {
   "cell_type": "code",
   "execution_count": null,
   "id": "e6ef7da6",
   "metadata": {},
   "outputs": [],
   "source": [
    "# Convert Unix\n",
    "unix_timestamp = 1664453561.439    # Replace with your Unix timestamp\n",
    "utc_date_time = datetime.datetime.utcfromtimestamp(unix_timestamp)\n",
    "formatted_date_time = utc_date_time.strftime(\"%Y-%m-%d %H:%M:%S UTC\")\n",
    "print(formatted_date_time)"
   ]
  },
  {
   "cell_type": "code",
   "execution_count": null,
   "id": "0bf44d0f",
   "metadata": {},
   "outputs": [],
   "source": [
    "# Convert J2000\n",
    "j2000_timestamp = 717768761439\n",
    "utc_date_time = datetime.datetime(2000, 1, 1, 0, 0) + datetime.timedelta(milliseconds=j2000_timestamp)\n",
    "formatted_date_time = utc_date_time.strftime(\"%Y-%m-%d %H:%M:%S UTC\")\n",
    "print(formatted_date_time)"
   ]
  },
  {
   "cell_type": "code",
   "execution_count": null,
   "id": "3fa3cc01",
   "metadata": {},
   "outputs": [],
   "source": []
  },
  {
   "cell_type": "code",
   "execution_count": null,
   "id": "8d3ef878",
   "metadata": {},
   "outputs": [],
   "source": [
    "# Add biopac data"
   ]
  }
 ],
 "metadata": {
  "kernelspec": {
   "display_name": "Python 3 (Spyder)",
   "language": "python3",
   "name": "python3"
  },
  "language_info": {
   "codemirror_mode": {
    "name": "ipython",
    "version": 3
   },
   "file_extension": ".py",
   "mimetype": "text/x-python",
   "name": "python",
   "nbconvert_exporter": "python",
   "pygments_lexer": "ipython3",
   "version": "3.9.13"
  }
 },
 "nbformat": 4,
 "nbformat_minor": 5
}
