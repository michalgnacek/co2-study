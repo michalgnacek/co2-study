{
 "cells": [
  {
   "cell_type": "markdown",
   "id": "6a51f4ed",
   "metadata": {},
   "source": [
    "# VR CO2 Study - Data processing\n",
    "\n",
    "This notebook does the following:\n",
    "\n",
    "1. x\n",
    "2. y\n",
    "3. z\n",
    "\n",
    "Input: input\n",
    "Output: output"
   ]
  },
  {
   "cell_type": "code",
   "execution_count": 4,
   "id": "254051bb",
   "metadata": {},
   "outputs": [],
   "source": [
    "# TODO\n",
    "#1. Participant 1 CO2 mask data time is weird"
   ]
  },
  {
   "cell_type": "code",
   "execution_count": 5,
   "id": "435f1ea7",
   "metadata": {},
   "outputs": [],
   "source": [
    "# Imports\n",
    "import os\n",
    "if('notebooks' in os.getcwd()):\n",
    "    os.chdir('..')\n",
    "import json\n",
    "import pandas as pd\n",
    "from utils.constants import AirFiles, CO2Files, DATA_COLUMNS\n",
    "from utils.load_data import load_data_with_event_matching\n",
    "from utils.timestamps import read_unix, read_j2000, j2000_to_unix, generate_biopac_unix_timestamps\n",
    "from classes.Participant import Participant\n",
    "from classes.DataHandler import DataHandler\n",
    "import numpy as np\n"
   ]
  },
  {
   "cell_type": "code",
   "execution_count": 6,
   "id": "8ca8125a",
   "metadata": {},
   "outputs": [
    {
     "data": {
      "text/plain": [
       "Int64Index([ 0,  1,  2,  3,  4,  5,  6,  7,  8,  9, 10, 11, 12, 13, 14, 15, 16,\n",
       "            17, 18, 19, 20, 21, 22, 23, 24, 25, 26, 27, 28, 29, 30, 31, 32, 33,\n",
       "            34, 35, 36, 37, 38, 39, 40, 41, 42, 43, 44, 45, 46, 47, 48, 49, 50,\n",
       "            51, 52, 53, 54, 55, 56, 57, 58, 59, 60, 61, 62],\n",
       "           dtype='int64')"
      ]
     },
     "execution_count": 6,
     "metadata": {},
     "output_type": "execute_result"
    }
   ],
   "source": [
    "# Open file index JSON for reading\n",
    "file_index = pd.read_json(os.path.join(os.getcwd(), 'temp/file_index.json'))\n",
    "file_index = file_index.sort_index()\n",
    "participant_ids = file_index.index\n",
    "participant_ids"
   ]
  },
  {
   "cell_type": "code",
   "execution_count": 7,
   "id": "bcf2341f",
   "metadata": {},
   "outputs": [],
   "source": [
    "participant_ids = [1]"
   ]
  },
  {
   "cell_type": "code",
   "execution_count": null,
   "id": "9be37441",
   "metadata": {},
   "outputs": [],
   "source": [
    "for participant_id in participant_ids:\n",
    "    participant_to_retrieve = participant_id\n",
    "    participant_file_index = file_index[0][participant_to_retrieve]\n",
    "    participant = Participant(participant_file_index['id'])\n",
    "    \n",
    "    # AIR\n",
    "    print('Loading Air condition Data')\n",
    "    air_mask_file = participant_file_index[AirFiles.MASK.value]\n",
    "    air_event_file = participant_file_index[AirFiles.EVENT.value]\n",
    "    air_eyetracking_file = participant_file_index[AirFiles.EYE.value]\n",
    "    air_biopac_file = participant_file_index[AirFiles.BIOPAC.value]\n",
    "    air_biopac_start_unix = participant_file_index[AirFiles.BIOPAC_UNIX_START_TIME.value]\n",
    "\n",
    "    # Load mask data\n",
    "    participant.set_air_mask_data(DataHandler.load_mask_data(air_mask_file, air_event_file, participant.id))\n",
    "    # Load eye tracking data\n",
    "    participant.set_air_eye_data(DataHandler.load_eyetracking_data(air_eyetracking_file, participant.id, 'air'))  \n",
    "    # Load biopac data\n",
    "    participant.set_air_biopac_data(DataHandler.load_biopac_data(air_biopac_file, air_biopac_start_unix, participant.id))  \n",
    "    # Sync eye tracking and biopac data\n",
    "    participant.set_air_synced_data(DataHandler.sync_signal_data(participant.air_mask_data, participant.air_eye_data, participant.air_biopac_data, air_biopac_start_unix))\n",
    "\n",
    "    #CO2\n",
    "    print('Loading CO2 condition Data')\n",
    "    co2_mask_file = participant_file_index[CO2Files.MASK.value]\n",
    "    co2_event_file = participant_file_index[CO2Files.EVENT.value]\n",
    "    co2_eyetracking_file = participant_file_index[CO2Files.EYE.value]\n",
    "    co2_biopac_file = participant_file_index[CO2Files.BIOPAC.value]\n",
    "    co2_biopac_start_unix = participant_file_index[CO2Files.BIOPAC_UNIX_START_TIME.value]\n",
    "\n",
    "    # Load mask data\n",
    "    participant.set_co2_mask_data(DataHandler.load_mask_data(co2_mask_file, co2_event_file, participant.id))\n",
    "    # Load eye tracking data\n",
    "    participant.set_co2_eye_data(DataHandler.load_eyetracking_data(co2_eyetracking_file, participant.id, 'co2'))  \n",
    "    # Load biopac data\n",
    "    participant.set_co2_biopac_data(DataHandler.load_biopac_data(co2_biopac_file, co2_biopac_start_unix, participant.id))  \n",
    "    # Sync eye tracking and biopac data\n",
    "    participant.set_co2_synced_data(DataHandler.sync_signal_data(participant.co2_mask_data, participant.co2_eye_data, participant.co2_biopac_data, co2_biopac_start_unix))\n",
    "    \n",
    "    # Feature extraction\n",
    "    \n",
    "\n",
    "    \n",
    "    print('Finished data processing for participant: ' + participant.id)\n",
    "\n"
   ]
  },
  {
   "cell_type": "code",
   "execution_count": null,
   "id": "ac96e669",
   "metadata": {},
   "outputs": [],
   "source": [
    "participant.get_expression_calibration_data('air')"
   ]
  },
  {
   "cell_type": "code",
   "execution_count": null,
   "id": "cb57e04c",
   "metadata": {},
   "outputs": [],
   "source": [
    "participant.get_brightness_calibration_data('air')"
   ]
  },
  {
   "cell_type": "code",
   "execution_count": null,
   "id": "b05d0c61",
   "metadata": {},
   "outputs": [],
   "source": [
    "participant.get_condition_data('air')"
   ]
  },
  {
   "cell_type": "code",
   "execution_count": null,
   "id": "656e5f23",
   "metadata": {},
   "outputs": [],
   "source": [
    "DataHandler.filter_fit_state_threshold(participant.get_expression_calibration_data('air'))"
   ]
  },
  {
   "cell_type": "code",
   "execution_count": null,
   "id": "293e8d29",
   "metadata": {},
   "outputs": [],
   "source": [
    "# Pass participant synced data for normalisation. Different normalisation methods per modality are used\n",
    "test = DataHandler.normalise_data(participant.get_expression_calibration_data('air'), participant.get_brightness_calibration_data('air'), participant.get_condition_data('air'), participant.air_synced_data)\n",
    "\n",
    "\n"
   ]
  },
  {
   "cell_type": "code",
   "execution_count": null,
   "id": "ad328a24",
   "metadata": {},
   "outputs": [],
   "source": [
    "from sklearn.preprocessing import MinMaxScaler\n",
    "\n",
    "left_eye_min_max_scaler = MinMaxScaler()\n",
    "eye_tracking_df = pd.DataFrame(participant.get_brightness_calibration_data('air')[DATA_COLUMNS.EYE_LEFT_PUPIL_SIZE.value])\n",
    "left_eye_min_max_scaler.fit(eye_tracking_df)\n",
    "scaled = left_eye_min_max_scaler.transform(test)\n",
    "scaled = pd.DataFrame(scaled, columns=eye_tracking_df.columns, index=eye_tracking_df.index)\n",
    "#left_eye_min_max_scaler = MinMaxScaler()\n",
    "#left_eye_min_max_scaler.fit([participant.air_synced_data[DATA_COLUMNS.EYE_LEFT_PUPIL_SIZE.value]])\n",
    "#test = left_eye_min_max_scaler.fit_transform([participant.air_synced_data[DATA_COLUMNS.EYE_LEFT_PUPIL_SIZE.value]])"
   ]
  },
  {
   "cell_type": "code",
   "execution_count": 41,
   "id": "8ed27c06",
   "metadata": {},
   "outputs": [],
   "source": [
    "from sklearn.preprocessing import MinMaxScaler\n",
    "#THIS WORKS BUT MEAN FILLING IS BAD\n",
    "left_eye_min_max_scaler = MinMaxScaler()\n",
    "eye_tracking_df = pd.DataFrame(participant.get_brightness_calibration_data('air')[DATA_COLUMNS.EYE_LEFT_PUPIL_SIZE.value])\n",
    "synced_data = pd.DataFrame(participant.air_synced_data[DATA_COLUMNS.EYE_LEFT_PUPIL_SIZE.value])\n",
    "left_eye_min_max_scaler.fit(eye_tracking_df)\n",
    "scaled = left_eye_min_max_scaler.transform(synced_data)\n",
    "scaled = pd.DataFrame(scaled, columns=synced_data.columns, index=synced_data.index)\n",
    "#left_eye_min_max_scaler = MinMaxScaler()\n",
    "#left_eye_min_max_scaler.fit([participant.air_synced_data[DATA_COLUMNS.EYE_LEFT_PUPIL_SIZE.value]])\n",
    "#test = left_eye_min_max_scaler.fit_transform([participant.air_synced_data[DATA_COLUMNS.EYE_LEFT_PUPIL_SIZE.value]])"
   ]
  },
  {
   "cell_type": "code",
   "execution_count": null,
   "id": "4a040a77",
   "metadata": {},
   "outputs": [],
   "source": [
    "# Convert Unix\n",
    "print(read_unix(participant_file_index[AirFiles.BIOPAC_UNIX_START_TIME.value]))"
   ]
  },
  {
   "cell_type": "code",
   "execution_count": null,
   "id": "1587e7b9",
   "metadata": {},
   "outputs": [],
   "source": [
    "scaler = MinMaxScaler()\n",
    "\n",
    "dfTest = pd.DataFrame({'A':[14.00,90.20,90.95,96.27,91.21]})\n",
    "\n",
    "dfTest['A'] = scaler.fit_transform(dfTest[['A']])\n",
    "dfTest"
   ]
  },
  {
   "cell_type": "code",
   "execution_count": null,
   "id": "38ab674b",
   "metadata": {},
   "outputs": [],
   "source": [
    "print(read_unix(1664462826.77676))\n",
    "print(read_unix(1664462826.8157))"
   ]
  },
  {
   "cell_type": "code",
   "execution_count": null,
   "id": "4a512c87",
   "metadata": {},
   "outputs": [],
   "source": [
    "# Convert J2000\n",
    "print(read_j2000(704397173515))"
   ]
  },
  {
   "cell_type": "code",
   "execution_count": null,
   "id": "14562a66",
   "metadata": {},
   "outputs": [],
   "source": []
  },
  {
   "cell_type": "code",
   "execution_count": null,
   "id": "799a61dd",
   "metadata": {},
   "outputs": [],
   "source": []
  }
 ],
 "metadata": {
  "kernelspec": {
   "display_name": "Python 3 (Spyder)",
   "language": "python3",
   "name": "python3"
  },
  "language_info": {
   "codemirror_mode": {
    "name": "ipython",
    "version": 3
   },
   "file_extension": ".py",
   "mimetype": "text/x-python",
   "name": "python",
   "nbconvert_exporter": "python",
   "pygments_lexer": "ipython3",
   "version": "3.9.13"
  }
 },
 "nbformat": 4,
 "nbformat_minor": 5
}
