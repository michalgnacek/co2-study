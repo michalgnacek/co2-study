{
 "cells": [
  {
   "cell_type": "markdown",
   "id": "d5c5beda",
   "metadata": {},
   "source": [
    "# Participant Index File Creation\n",
    "\n",
    "This notebook does the following:\n",
    "\n",
    "1. Loop through data folder to identify participant data\n",
    "2. Sort participant folders in ascending order\n",
    "3. Using Participant class object, retrieve file paths for each file (mask, eye tracking and biopac for air and co2 conditions)\n",
    "\n",
    "Input: 'DATA_DIRECTORY' - root folder directory containing data for all participants\n",
    "\n",
    "Output: 'file_index.json' - json file index containing file paths for each participant for both conditions\n",
    "\n",
    "*Set working directory to co2-study root folder"
   ]
  },
  {
   "cell_type": "code",
   "execution_count": 1,
   "id": "da8a5b78",
   "metadata": {},
   "outputs": [],
   "source": [
    "# Root directory for co2 data\n",
    "#DATA_DIRECTORY = r\"PATH_TO_DATA_DIRECTORY\"\n",
    "DATA_DIRECTORY = r\"I:\\CO2_study\\test_data\""
   ]
  },
  {
   "cell_type": "code",
   "execution_count": 2,
   "id": "89c3a4ab",
   "metadata": {},
   "outputs": [],
   "source": [
    "# Imports\n",
    "import os\n",
    "import pandas as pd\n",
    "from classes.FileIndexer import FileIndexer"
   ]
  },
  {
   "cell_type": "code",
   "execution_count": 3,
   "id": "3ecef539-9a57-458a-a53f-e8ae41f05f8d",
   "metadata": {},
   "outputs": [
    {
     "name": "stdout",
     "output_type": "stream",
     "text": [
      "Found data folders for 2 participants.\n",
      "Participant numbers: ['1', '2']\n"
     ]
    }
   ],
   "source": [
    "participant_numbers = []\n",
    "\n",
    "# iterate through all the folders in the parent directory\n",
    "for participant_number in os.listdir(DATA_DIRECTORY):\n",
    "    participant_numbers.append(participant_number)\n",
    "\n",
    "print('Found data folders for ' + str(len(participant_numbers)) + ' participants.' )\n",
    "print('Participant numbers: ' + str(participant_numbers))"
   ]
  },
  {
   "cell_type": "code",
   "execution_count": 5,
   "id": "6432275c",
   "metadata": {},
   "outputs": [],
   "source": [
    "# Create file index for all participants\n",
    "file_index = []\n",
    "\n",
    "for participant_number in participant_numbers:\n",
    "    p = FileIndexer(os.path.join(DATA_DIRECTORY, participant_number))\n",
    "    file_index.append(p)\n",
    "    \n",
    "if not os.path.exists('temp'):\n",
    "    os.mkdir(\"temp\")\n",
    "\n",
    "file_index_df = pd.DataFrame(file_index)\n",
    "file_index_df.to_json('temp/file_index.json')"
   ]
  },
  {
   "cell_type": "code",
   "execution_count": null,
   "id": "7cc14cf4-9514-4b8d-a405-940d9dda2fd6",
   "metadata": {},
   "outputs": [],
   "source": []
  }
 ],
 "metadata": {
  "kernelspec": {
   "display_name": "Python 3 (Spyder)",
   "language": "python3",
   "name": "python3"
  },
  "language_info": {
   "codemirror_mode": {
    "name": "ipython",
    "version": 3
   },
   "file_extension": ".py",
   "mimetype": "text/x-python",
   "name": "python",
   "nbconvert_exporter": "python",
   "pygments_lexer": "ipython3",
   "version": "3.11.5"
  }
 },
 "nbformat": 4,
 "nbformat_minor": 5
}
