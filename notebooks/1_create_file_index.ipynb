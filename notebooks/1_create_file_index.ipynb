{
 "cells": [
  {
   "cell_type": "markdown",
   "id": "249a73b5",
   "metadata": {},
   "source": [
    "# VR CO2 Study - Participant Index File Creation\n",
    "\n",
    "This notebook does the following:\n",
    "\n",
    "1. Loop through data folder to identify participant data\n",
    "2. Sort participant folders in ascending order\n",
    "3. Using Participant class object, retrieve file paths for each file (mask, eye tracking and biopac for air and co2 conditions)\n",
    "\n",
    "Input: folder directory containing study data\n",
    "Output: json file index containing file path for each participant for both conditions"
   ]
  },
  {
   "cell_type": "code",
   "execution_count": 10,
   "id": "21a529da",
   "metadata": {},
   "outputs": [],
   "source": [
    "# Root directory for co2 data\n",
    "CO2_DATA_DIRECTORY = r\"D:\\OneDrive - Bournemouth University\\Studies\\CO2 study\\working_data\""
   ]
  },
  {
   "cell_type": "code",
   "execution_count": 11,
   "id": "4140cd50",
   "metadata": {},
   "outputs": [],
   "source": [
    "# Imports\n",
    "import os\n",
    "import re\n",
    "import csv\n",
    "import pandas as pd\n",
    "from datetime import datetime\n",
    "import json\n",
    "\n",
    "from classes.Participant import Participant"
   ]
  },
  {
   "cell_type": "code",
   "execution_count": 12,
   "id": "3ec32d11",
   "metadata": {},
   "outputs": [
    {
     "name": "stdout",
     "output_type": "stream",
     "text": [
      "Found data for 63 participants.\n",
      "Participant numbers: ['1_josie', '2_john', '3_karolina', '4_raff', '5_hamed_incomplete', '6_robert_incomplete', '7_aliaksei', '8_dima_mask_not_fitting', '9_dan', '10_benjamin', '11_john_l', '12_alex_b', '13_hubert', '14_corin', '15_amy', '16_james_d', '17_paul_w', '18_karol_k', '19_shayaan', '20_alex_w', '21_karol_2_incomplete', '22_michael_s', '23_peter_h', '24_alasdair_m', '25_james_he', '26_joshua_ra', '27_roy_kibe', '28_atul_singh', '29_matthew_wright', '30_nikhil_ramesh_incomplete', '31_mohamed_lafi', '32_emin_akbay', '33_muhhamad_aiman', '34_benjamin_pomeroy', '35_prabooganesh_suria', '36_rostislavs_popovs', '37_alejandro', '38_ryan_davies', '39_anastasios_dimitriou_incomplete', '40_joseph_dib_incomplete', '41_simon_parry', '42_byron_lewis_incomplete', '43_kacper_dworski', '44_jamie_holden', '45_bilaal_rashid', '46_james_ogorman', '47_haveer_dookhit', '48_rishi_nayan', '49_harris_hadjiantonis', '50_blaire_duff', '51_marton_nagy', '52_thomas_charnock', '53_lewis_grout', '54_pranav_sistla', '55_matthew_lui', '56_simeon_sulc', '57_yasir_chowdhury', '58_eddie_gwillliam_incomplete', '59_malcolm_easton', '60_hamant_rana', '61_freddie_simpson', '62_timothy_dsouza', '63_reuben_moerman']\n"
     ]
    }
   ],
   "source": [
    "participant_numbers = []\n",
    "\n",
    "# iterate through all the folders in the parent directory\n",
    "for participant_number in os.listdir(CO2_DATA_DIRECTORY):\n",
    "    # check if the folder name starts with a number followed by an underscore and a participant name\n",
    "    if re.match(r\"^\\d+_\", participant_number):\n",
    "        # add the folder name to the list\n",
    "        participant_numbers.append(participant_number)\n",
    "\n",
    "# sort the list of folder names by their numerical prefix\n",
    "participant_numbers.sort(key=lambda x: int(x.split(\"_\")[0]))\n",
    "\n",
    "print('Found data for ' + str(len(participant_numbers)) + ' participants.' )\n",
    "print('Participant numbers: ' + str(participant_numbers))"
   ]
  },
  {
   "cell_type": "code",
   "execution_count": 15,
   "id": "63c508de",
   "metadata": {},
   "outputs": [],
   "source": [
    "# Create file index for all participants\n",
    "file_index = []\n",
    "\n",
    "for participant_number in participant_numbers:\n",
    "    p = Participant(os.path.join(CO2_DATA_DIRECTORY, participant_number))\n",
    "    file_index.append(p)\n",
    "    \n",
    "if not os.path.exists('temp'):\n",
    "    os.mkdir(\"temp\")\n",
    "\n",
    "file_index_df = pd.DataFrame(file_index)\n",
    "file_index_df.to_json('temp/file_index.json')\n",
    "# Open a new file for writing\n",
    "#with open(\"temp/file_index.json\", \"w\") as f:\n",
    "    # Write the object to the file in JSON format\n",
    "#    json.dump(json.dumps([p.__dict__ for file in file_index]), f)\n"
   ]
  },
  {
   "cell_type": "code",
   "execution_count": null,
   "id": "c454b112",
   "metadata": {},
   "outputs": [],
   "source": []
  }
 ],
 "metadata": {
  "kernelspec": {
   "display_name": "Python 3 (Spyder)",
   "language": "python3",
   "name": "python3"
  },
  "language_info": {
   "codemirror_mode": {
    "name": "ipython",
    "version": 3
   },
   "file_extension": ".py",
   "mimetype": "text/x-python",
   "name": "python",
   "nbconvert_exporter": "python",
   "pygments_lexer": "ipython3",
   "version": "3.9.13"
  }
 },
 "nbformat": 4,
 "nbformat_minor": 5
}
