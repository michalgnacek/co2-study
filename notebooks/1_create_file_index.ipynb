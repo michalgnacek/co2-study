{
 "cells": [
  {
   "cell_type": "markdown",
   "id": "a80fd82a",
   "metadata": {},
   "source": [
    "# VR CO2 Study - Participant Index File Creation\n",
    "\n",
    "This notebook does the following:\n",
    "\n",
    "1. Loop through data folder to identify participant data\n",
    "2. Sort participant folders in ascending order\n",
    "3. Using Participant class object, retrieve file paths for each file (mask, eye tracking and biopac for air and co2 conditions)\n",
    "\n",
    "Input: folder directory containing study data\n",
    "Output: json file index containing file path for each participant for both conditions"
   ]
  },
  {
   "cell_type": "code",
   "execution_count": null,
   "id": "b501325d",
   "metadata": {},
   "outputs": [],
   "source": [
    "# Root directory for co2 data\n",
    "CO2_DATA_DIRECTORY = r\"D:\\OneDrive - Bournemouth University\\Studies\\CO2 study\\working_data\""
   ]
  },
  {
   "cell_type": "code",
   "execution_count": null,
   "id": "f9084a86",
   "metadata": {},
   "outputs": [],
   "source": [
    "# Imports\n",
    "import os\n",
    "import re\n",
    "import csv\n",
    "import pandas as pd\n",
    "from datetime import datetime\n",
    "import json\n",
    "\n",
    "if('notebooks' in os.getcwd()):\n",
    "    os.chdir('..')\n",
    "from classes.FileIndexer import FileIndexer"
   ]
  },
  {
   "cell_type": "code",
   "execution_count": null,
   "id": "6249e1ba",
   "metadata": {},
   "outputs": [],
   "source": [
    "participant_numbers = []\n",
    "\n",
    "# iterate through all the folders in the parent directory\n",
    "for participant_number in os.listdir(CO2_DATA_DIRECTORY):\n",
    "    # check if the folder name starts with a number followed by an underscore and a participant name\n",
    "    if re.match(r\"^\\d+_\", participant_number):\n",
    "        # add the folder name to the list\n",
    "        participant_numbers.append(participant_number)\n",
    "\n",
    "# sort the list of folder names by their numerical prefix\n",
    "participant_numbers.sort(key=lambda x: int(x.split(\"_\")[0]))\n",
    "\n",
    "print('Found data for ' + str(len(participant_numbers)) + ' participants.' )\n",
    "print('Participant numbers: ' + str(participant_numbers))"
   ]
  },
  {
   "cell_type": "code",
   "execution_count": null,
   "id": "54049b28",
   "metadata": {},
   "outputs": [],
   "source": [
    "# Create file index for all participants\n",
    "file_index = []\n",
    "\n",
    "for participant_number in participant_numbers:\n",
    "    p = FileIndexer(os.path.join(CO2_DATA_DIRECTORY, participant_number))\n",
    "    file_index.append(p)\n",
    "    \n",
    "if not os.path.exists('temp'):\n",
    "    os.mkdir(\"temp\")\n",
    "\n",
    "file_index_df = pd.DataFrame(file_index)\n",
    "file_index_df.to_json('temp/file_index.json')\n",
    "# Open a new file for writing\n",
    "#with open(\"temp/file_index.json\", \"w\") as f:\n",
    "    # Write the object to the file in JSON format\n",
    "#    json.dump(json.dumps([p.__dict__ for file in file_index]), f)\n"
   ]
  },
  {
   "cell_type": "code",
   "execution_count": null,
   "id": "78be8be1",
   "metadata": {},
   "outputs": [],
   "source": []
  }
 ],
 "metadata": {
  "kernelspec": {
   "display_name": "Python 3 (Spyder)",
   "language": "python3",
   "name": "python3"
  },
  "language_info": {
   "codemirror_mode": {
    "name": "ipython",
    "version": 3
   },
   "file_extension": ".py",
   "mimetype": "text/x-python",
   "name": "python",
   "nbconvert_exporter": "python",
   "pygments_lexer": "ipython3",
   "version": "3.9.13"
  }
 },
 "nbformat": 4,
 "nbformat_minor": 5
}
